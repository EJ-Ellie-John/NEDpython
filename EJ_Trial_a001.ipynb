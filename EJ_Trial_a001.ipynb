{
  "nbformat": 4,
  "nbformat_minor": 0,
  "metadata": {
    "colab": {
      "provenance": [],
      "authorship_tag": "ABX9TyN38oGYvhdlDcrTwegNHWh0",
      "include_colab_link": true
    },
    "kernelspec": {
      "name": "python3",
      "display_name": "Python 3"
    },
    "language_info": {
      "name": "python"
    }
  },
  "cells": [
    {
      "cell_type": "markdown",
      "metadata": {
        "id": "view-in-github",
        "colab_type": "text"
      },
      "source": [
        "<a href=\"https://colab.research.google.com/github/EJ-Ellie-John/NEDpython/blob/main/EJ_Trial_a001.ipynb\" target=\"_parent\"><img src=\"https://colab.research.google.com/assets/colab-badge.svg\" alt=\"Open In Colab\"/></a>"
      ]
    },
    {
      "cell_type": "code",
      "execution_count": null,
      "metadata": {
        "id": "sphBeXNYKaR6"
      },
      "outputs": [],
      "source": [
        "3.%"
      ]
    },
    {
      "cell_type": "markdown",
      "source": [
        "# Types of concats\n",
        "1. +\n",
        "2. format\n",
        "3. %"
      ],
      "metadata": {
        "id": "bHtL1VNaSj4D"
      }
    },
    {
      "cell_type": "markdown",
      "source": [
        "first trial of formatting output\n",
        "# view of text presentation\n",
        "\n",
        "1. Var1 and Var2"
      ],
      "metadata": {
        "id": "YeBmHedtKx2k"
      }
    },
    {
      "cell_type": "markdown",
      "source": [
        "**Elishba John**\n",
        "1. Person\n",
        "2. Coach\n",
        "3. HR professional\n",
        "4. Traveler\n",
        "5. *Friend*\n",
        "6. Progressive\n"
      ],
      "metadata": {
        "id": "hMUeydgMLMLB"
      }
    },
    {
      "cell_type": "code",
      "source": [
        "print(1+1)#2 int\n",
        "print('1'+'1') #11 string"
      ],
      "metadata": {
        "colab": {
          "base_uri": "https://localhost:8080/"
        },
        "id": "DWLExp4MMDD4",
        "outputId": "67926d32-ccdc-4671-802b-c8a612326aee"
      },
      "execution_count": 1,
      "outputs": [
        {
          "output_type": "stream",
          "name": "stdout",
          "text": [
            "2\n",
            "11\n"
          ]
        }
      ]
    },
    {
      "cell_type": "markdown",
      "source": [
        "# How to create variable\n",
        "'variable_name=variable_value'\n",
        "1. variable_name\n",
        "write meaning full name\n",
        "2. '=' assign operator\n",
        "3. = variable value\n",
        "\n",
        "#Example\n",
        "'student_name= \"Muhammad Qasim:\n",
        "1. variable_name(student_name)\n",
        "2. operator(=)\n",
        "3. Muhammad Qasim(variable_value)"
      ],
      "metadata": {
        "id": "r7zsEDHgMVIQ"
      }
    },
    {
      "cell_type": "markdown",
      "source": [
        "*snake_case\n",
        "*cane"
      ],
      "metadata": {
        "id": "VYN9MuQwNU7m"
      }
    },
    {
      "cell_type": "markdown",
      "source": [
        "*camelCase\n",
        "*CapitalizeEachWord\n"
      ],
      "metadata": {
        "id": "yvxhNOlKNZ0G"
      }
    },
    {
      "cell_type": "markdown",
      "source": [
        "# How to create string\n",
        "1. 'string here'\n",
        "2. \"string here\"\n",
        "3. '''string here'''\n",
        "4. \"\"\"string here\"\"\"\n",
        "\n"
      ],
      "metadata": {
        "id": "BPFza7WLOgmX"
      }
    },
    {
      "cell_type": "code",
      "source": [
        "data='''Love\\tis\\ttranscendence'''\n",
        "print(type(data))\n",
        "print(data)\n"
      ],
      "metadata": {
        "colab": {
          "base_uri": "https://localhost:8080/"
        },
        "id": "A3mgJaXBO2mL",
        "outputId": "e54e35e1-1c58-4745-9089-f823d16cb249"
      },
      "execution_count": 9,
      "outputs": [
        {
          "output_type": "stream",
          "name": "stdout",
          "text": [
            "<class 'str'>\n",
            "Love\tis\ttranscendence\n"
          ]
        }
      ]
    },
    {
      "cell_type": "markdown",
      "source": [
        "Solve some problems"
      ],
      "metadata": {
        "id": "pbYZdIz5P8e5"
      }
    },
    {
      "cell_type": "code",
      "source": [
        "data='my desire is be competent' and need to fulfill that desire'\n",
        "print(type(data))\n",
        "print(data)"
      ],
      "metadata": {
        "colab": {
          "base_uri": "https://localhost:8080/",
          "height": 106
        },
        "id": "gPEgpm6HP-6i",
        "outputId": "2e527d19-334d-4a71-8d00-6caf003f0ee0"
      },
      "execution_count": 10,
      "outputs": [
        {
          "output_type": "error",
          "ename": "SyntaxError",
          "evalue": "unterminated string literal (detected at line 1) (<ipython-input-10-296bd8cf03b1>, line 1)",
          "traceback": [
            "\u001b[0;36m  File \u001b[0;32m\"<ipython-input-10-296bd8cf03b1>\"\u001b[0;36m, line \u001b[0;32m1\u001b[0m\n\u001b[0;31m    data='my desire is be competent' and need to fulfill that desire'\u001b[0m\n\u001b[0m                                                                    ^\u001b[0m\n\u001b[0;31mSyntaxError\u001b[0m\u001b[0;31m:\u001b[0m unterminated string literal (detected at line 1)\n"
          ]
        }
      ]
    },
    {
      "cell_type": "code",
      "source": [
        "# convert any special character into normal character\n",
        "data='my desire is be \"competent\" and need to fulfill that desire'\n",
        "print(type(data))\n",
        "print(data)"
      ],
      "metadata": {
        "colab": {
          "base_uri": "https://localhost:8080/"
        },
        "id": "ksfV7lreQVYm",
        "outputId": "7ce11346-b5c8-41e5-d645-1a39ea5d6c1c"
      },
      "execution_count": 11,
      "outputs": [
        {
          "output_type": "stream",
          "name": "stdout",
          "text": [
            "<class 'str'>\n",
            "my desire is be \"competent\" and need to fulfill that desire\n"
          ]
        }
      ]
    },
    {
      "cell_type": "markdown",
      "source": [
        "# Concatenate\n"
      ],
      "metadata": {
        "id": "xdpZx4BrRJXA"
      }
    },
    {
      "cell_type": "code",
      "source": [
        "name = \"Elishba John\"\n",
        "father_name = \"Inayat John\"\n",
        "\n",
        "print(name)\n",
        "print(father_name)\n",
        "\n",
        "message = \"Hey \" + name + \", lovely adorable girl\"\n",
        "\n",
        "print(message)\n"
      ],
      "metadata": {
        "colab": {
          "base_uri": "https://localhost:8080/"
        },
        "id": "YqkNkHbcRN7i",
        "outputId": "07ffc0fb-9c75-4cb5-bf64-eb4a2abcafd1"
      },
      "execution_count": 16,
      "outputs": [
        {
          "output_type": "stream",
          "name": "stdout",
          "text": [
            "Elishba John\n",
            "Inayat John\n",
            "Hey Elishba John, lovely adorable girl\n"
          ]
        }
      ]
    },
    {
      "cell_type": "code",
      "source": [
        "# .format\n",
        "# .format()at the end of string\n",
        "name = \"Elishba John\"\n",
        "father_name = \"Inayat John\"\n",
        "\n",
        "print(name)\n",
        "print(father_name)\n",
        "\n",
        "message = \"Hey, {1} dau of {0}\",format(name,father_name)\n",
        "\n",
        "print(message)"
      ],
      "metadata": {
        "colab": {
          "base_uri": "https://localhost:8080/",
          "height": 245
        },
        "id": "X6l86ldgSxSs",
        "outputId": "ec60f5a8-0c7d-4804-dc4b-96986c5a36ce"
      },
      "execution_count": 22,
      "outputs": [
        {
          "output_type": "stream",
          "name": "stdout",
          "text": [
            "Elishba John\n",
            "Inayat John\n"
          ]
        },
        {
          "output_type": "error",
          "ename": "ValueError",
          "evalue": "Invalid format specifier",
          "traceback": [
            "\u001b[0;31m---------------------------------------------------------------------------\u001b[0m",
            "\u001b[0;31mValueError\u001b[0m                                Traceback (most recent call last)",
            "\u001b[0;32m<ipython-input-22-5d16a7d4e6e6>\u001b[0m in \u001b[0;36m<cell line: 9>\u001b[0;34m()\u001b[0m\n\u001b[1;32m      7\u001b[0m \u001b[0mprint\u001b[0m\u001b[0;34m(\u001b[0m\u001b[0mfather_name\u001b[0m\u001b[0;34m)\u001b[0m\u001b[0;34m\u001b[0m\u001b[0;34m\u001b[0m\u001b[0m\n\u001b[1;32m      8\u001b[0m \u001b[0;34m\u001b[0m\u001b[0m\n\u001b[0;32m----> 9\u001b[0;31m \u001b[0mmessage\u001b[0m \u001b[0;34m=\u001b[0m \u001b[0;34m\"Hey, {1} dau of {0}\"\u001b[0m\u001b[0;34m,\u001b[0m\u001b[0mformat\u001b[0m\u001b[0;34m(\u001b[0m\u001b[0mname\u001b[0m\u001b[0;34m,\u001b[0m\u001b[0mfather_name\u001b[0m\u001b[0;34m)\u001b[0m\u001b[0;34m\u001b[0m\u001b[0;34m\u001b[0m\u001b[0m\n\u001b[0m\u001b[1;32m     10\u001b[0m \u001b[0;34m\u001b[0m\u001b[0m\n\u001b[1;32m     11\u001b[0m \u001b[0mprint\u001b[0m\u001b[0;34m(\u001b[0m\u001b[0mmessage\u001b[0m\u001b[0;34m)\u001b[0m\u001b[0;34m\u001b[0m\u001b[0;34m\u001b[0m\u001b[0m\n",
            "\u001b[0;31mValueError\u001b[0m: Invalid format specifier"
          ]
        }
      ]
    },
    {
      "cell_type": "code",
      "source": [
        "# %\n",
        "# place holder data type symbols\n",
        "# string = &s\n",
        "# int = #d\n",
        "\n",
        "name = \"Elishba John\"\n",
        "father_name = \"Inayat John\"\n",
        "\n",
        "print(name)\n",
        "print(father_name)\n",
        "\n",
        "message = \"Hey, %s dau of %d\", (name,father_name)\n",
        "\n",
        "print(message)"
      ],
      "metadata": {
        "colab": {
          "base_uri": "https://localhost:8080/"
        },
        "id": "_KRSVSHfTvfO",
        "outputId": "429dfd29-4288-4bf7-e7dc-49a1d3aa5854"
      },
      "execution_count": 27,
      "outputs": [
        {
          "output_type": "stream",
          "name": "stdout",
          "text": [
            "Elishba John\n",
            "Inayat John\n",
            "('Hey, %s dau of %d', ('Elishba John', 'Inayat John'))\n"
          ]
        }
      ]
    },
    {
      "cell_type": "code",
      "source": [
        "# f-string\n",
        "# place f before starting boundary\n",
        "\n",
        "name = \"Elishba John\"\n",
        "father_name = \"Inayat John\"\n",
        "\n",
        "print(name)\n",
        "print(father_name)\n",
        "\n",
        "message = f\"name, father_name\"\n",
        "\n",
        "print(message)"
      ],
      "metadata": {
        "colab": {
          "base_uri": "https://localhost:8080/"
        },
        "id": "bCB2ySYWUlTz",
        "outputId": "db13e051-88a7-48ed-98b9-594ca5dafbc3"
      },
      "execution_count": 28,
      "outputs": [
        {
          "output_type": "stream",
          "name": "stdout",
          "text": [
            "Elishba John\n",
            "Inayat John\n",
            "name, father_name\n"
          ]
        }
      ]
    },
    {
      "cell_type": "code",
      "source": [],
      "metadata": {
        "id": "CerlfrQySxlP"
      },
      "execution_count": null,
      "outputs": []
    },
    {
      "cell_type": "markdown",
      "source": [
        "F-string"
      ],
      "metadata": {
        "id": "peHXDPcoUiIl"
      }
    }
  ]
}