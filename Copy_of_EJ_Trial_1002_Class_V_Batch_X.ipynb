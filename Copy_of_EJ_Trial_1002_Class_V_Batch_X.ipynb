{
  "nbformat": 4,
  "nbformat_minor": 0,
  "metadata": {
    "colab": {
      "provenance": [],
      "authorship_tag": "ABX9TyOczy+0k1PTv+cz4+zU/+aq",
      "include_colab_link": true
    },
    "kernelspec": {
      "name": "python3",
      "display_name": "Python 3"
    },
    "language_info": {
      "name": "python"
    }
  },
  "cells": [
    {
      "cell_type": "markdown",
      "metadata": {
        "id": "view-in-github",
        "colab_type": "text"
      },
      "source": [
        "<a href=\"https://colab.research.google.com/github/EJ-Ellie-John/NEDpython/blob/main/Copy_of_EJ_Trial_1002_Class_V_Batch_X.ipynb\" target=\"_parent\"><img src=\"https://colab.research.google.com/assets/colab-badge.svg\" alt=\"Open In Colab\"/></a>"
      ]
    },
    {
      "cell_type": "code",
      "execution_count": null,
      "metadata": {
        "colab": {
          "base_uri": "https://localhost:8080/",
          "height": 35
        },
        "id": "uOKtMfysBPak",
        "outputId": "5213a4be-ab05-4e5a-f4b8-6ecccd9ae28e"
      },
      "outputs": [
        {
          "output_type": "execute_result",
          "data": {
            "text/plain": [
              "'11'"
            ],
            "application/vnd.google.colaboratory.intrinsic+json": {
              "type": "string"
            }
          },
          "metadata": {},
          "execution_count": 1
        }
      ],
      "source": [
        "\"1\" + \"1\""
      ]
    },
    {
      "cell_type": "code",
      "source": [
        "1 + 1"
      ],
      "metadata": {
        "colab": {
          "base_uri": "https://localhost:8080/"
        },
        "id": "QTQXHCEqCENQ",
        "outputId": "e6d5c5b5-67b9-41c3-eb2e-12f8aad40d47"
      },
      "execution_count": null,
      "outputs": [
        {
          "output_type": "execute_result",
          "data": {
            "text/plain": [
              "2"
            ]
          },
          "metadata": {},
          "execution_count": 2
        }
      ]
    },
    {
      "cell_type": "code",
      "source": [
        "11 % 3\n",
        "#modulus gets remainder\n"
      ],
      "metadata": {
        "colab": {
          "base_uri": "https://localhost:8080/"
        },
        "id": "8sfa0WhrC6SP",
        "outputId": "bfeefd7f-338c-4295-929b-e9e0cef8eff5"
      },
      "execution_count": null,
      "outputs": [
        {
          "output_type": "execute_result",
          "data": {
            "text/plain": [
              "2"
            ]
          },
          "metadata": {},
          "execution_count": 3
        }
      ]
    },
    {
      "cell_type": "code",
      "source": [
        "11 / 3"
      ],
      "metadata": {
        "colab": {
          "base_uri": "https://localhost:8080/"
        },
        "id": "ffQbEsF2DGVw",
        "outputId": "2060e409-a248-4fcc-abed-c9aa337fc895"
      },
      "execution_count": null,
      "outputs": [
        {
          "output_type": "execute_result",
          "data": {
            "text/plain": [
              "3.6666666666666665"
            ]
          },
          "metadata": {},
          "execution_count": 4
        }
      ]
    },
    {
      "cell_type": "code",
      "source": [],
      "metadata": {
        "id": "PsrmWz0eDJ_y"
      },
      "execution_count": null,
      "outputs": []
    },
    {
      "cell_type": "code",
      "source": [],
      "metadata": {
        "id": "_rNwy2DLDwuf"
      },
      "execution_count": null,
      "outputs": []
    },
    {
      "cell_type": "code",
      "source": [
        "11 // 3\n",
        "#modulus gets the main factor or number with out decimal point"
      ],
      "metadata": {
        "colab": {
          "base_uri": "https://localhost:8080/"
        },
        "id": "IrDAfQHsDKj1",
        "outputId": "4264a368-4edf-4c69-a36f-2f48cbb4dd2d"
      },
      "execution_count": null,
      "outputs": [
        {
          "output_type": "execute_result",
          "data": {
            "text/plain": [
              "3"
            ]
          },
          "metadata": {},
          "execution_count": 5
        }
      ]
    },
    {
      "cell_type": "code",
      "source": [
        "11 ** 3"
      ],
      "metadata": {
        "colab": {
          "base_uri": "https://localhost:8080/"
        },
        "id": "W60EDsgoDbm2",
        "outputId": "f6a207fc-b333-4d76-9f1d-0001dfd10f38"
      },
      "execution_count": null,
      "outputs": [
        {
          "output_type": "execute_result",
          "data": {
            "text/plain": [
              "1331"
            ]
          },
          "metadata": {},
          "execution_count": 6
        }
      ]
    },
    {
      "cell_type": "code",
      "source": [
        "#assignment operator\n",
        "a = 10\n",
        "a = 12\n",
        "a = 4\n",
        "print (a)\n",
        "\n",
        "a = a + 1\n",
        "print (a)\n",
        "\n",
        "#type of assignment operator += -+ *= /= %= //= **= := (reassign) &= |= ^= >= <= >>= <<= (add more operators) refers and performs actions on previous value\n",
        "# comparison operator == != > < >= <= one of the most important operators and widely used\n",
        "\n",
        "a += 15\n",
        "\n",
        "print(a)\n"
      ],
      "metadata": {
        "colab": {
          "base_uri": "https://localhost:8080/"
        },
        "id": "O4ORJgmdDuzI",
        "outputId": "6df3ff81-970f-4b10-9010-58b839cbfcaa"
      },
      "execution_count": null,
      "outputs": [
        {
          "output_type": "stream",
          "name": "stdout",
          "text": [
            "4\n",
            "5\n",
            "20\n"
          ]
        }
      ]
    },
    {
      "cell_type": "markdown",
      "source": [
        "Comparison operator as marked in above # comparison operator == != > < >= <= one of the most important operators and widely used\n",
        "Output will be either TRUE or FALSE, check logic\n"
      ],
      "metadata": {
        "id": "x2Uiu0-WF0sU"
      }
    },
    {
      "cell_type": "code",
      "source": [
        "print(100==101)\n",
        "print(120==120)"
      ],
      "metadata": {
        "colab": {
          "base_uri": "https://localhost:8080/"
        },
        "id": "RiX8KaGOGST2",
        "outputId": "0a7a83f9-e574-4440-a567-c32773705a6d"
      },
      "execution_count": null,
      "outputs": [
        {
          "output_type": "stream",
          "name": "stdout",
          "text": [
            "False\n",
            "True\n"
          ]
        }
      ]
    },
    {
      "cell_type": "code",
      "source": [
        "\"Eli\" == \"Eli\"\n",
        "\"Eli\" == \"eli\"\n",
        "\n"
      ],
      "metadata": {
        "colab": {
          "base_uri": "https://localhost:8080/"
        },
        "id": "4eGI8kjtGZBP",
        "outputId": "a6a1c71c-f455-4e0f-b937-a42056263ee0"
      },
      "execution_count": null,
      "outputs": [
        {
          "output_type": "execute_result",
          "data": {
            "text/plain": [
              "False"
            ]
          },
          "metadata": {},
          "execution_count": 12
        }
      ]
    },
    {
      "cell_type": "code",
      "source": [
        "2 != 5\n"
      ],
      "metadata": {
        "colab": {
          "base_uri": "https://localhost:8080/"
        },
        "id": "vAj1UgNwGnyQ",
        "outputId": "0d10651f-eec7-4fe2-821b-68d8194c74a2"
      },
      "execution_count": null,
      "outputs": [
        {
          "output_type": "execute_result",
          "data": {
            "text/plain": [
              "True"
            ]
          },
          "metadata": {},
          "execution_count": 18
        }
      ]
    },
    {
      "cell_type": "code",
      "source": [
        "5 != 5"
      ],
      "metadata": {
        "colab": {
          "base_uri": "https://localhost:8080/"
        },
        "id": "ZNw-PtX2G2VP",
        "outputId": "9be54d55-fdd0-4faf-8b92-3c6df048f3d7"
      },
      "execution_count": null,
      "outputs": [
        {
          "output_type": "execute_result",
          "data": {
            "text/plain": [
              "False"
            ]
          },
          "metadata": {},
          "execution_count": 19
        }
      ]
    },
    {
      "cell_type": "markdown",
      "source": [
        "**Logical operators AND OR NOT**\n"
      ],
      "metadata": {
        "id": "vQJfbm2HIWNs"
      }
    },
    {
      "cell_type": "code",
      "source": [
        "5 == 5 and 2 == 2 and 3 == 3 and 'Eli' == 'Eli'\n",
        "# TRUE      TRUE       TRUE       TRUE"
      ],
      "metadata": {
        "colab": {
          "base_uri": "https://localhost:8080/"
        },
        "id": "8NV1Cn38G5QF",
        "outputId": "fb098e88-5fbb-4e2c-c849-58141c43bdfa"
      },
      "execution_count": null,
      "outputs": [
        {
          "output_type": "execute_result",
          "data": {
            "text/plain": [
              "True"
            ]
          },
          "metadata": {},
          "execution_count": 21
        }
      ]
    },
    {
      "cell_type": "code",
      "source": [
        "5 == 5 and 2 == 2 or 3 != 3 and 'Eli' == 'Eli'\n",
        "# TRUE      TRUE       FALSE       TRUE"
      ],
      "metadata": {
        "colab": {
          "base_uri": "https://localhost:8080/"
        },
        "id": "guLEDCf8JU5y",
        "outputId": "92fee523-1d5f-4c2d-feae-072d3aa6ef9e"
      },
      "execution_count": null,
      "outputs": [
        {
          "output_type": "execute_result",
          "data": {
            "text/plain": [
              "True"
            ]
          },
          "metadata": {},
          "execution_count": 26
        }
      ]
    },
    {
      "cell_type": "code",
      "source": [
        "True and True and True and True\n",
        "False and True and True and True\n",
        "False or True and True and True"
      ],
      "metadata": {
        "colab": {
          "base_uri": "https://localhost:8080/"
        },
        "id": "nOmSQ6DCJE5_",
        "outputId": "02174c6d-3818-4011-f224-236e7df40ca3"
      },
      "execution_count": null,
      "outputs": [
        {
          "output_type": "execute_result",
          "data": {
            "text/plain": [
              "True"
            ]
          },
          "metadata": {},
          "execution_count": 24
        }
      ]
    },
    {
      "cell_type": "markdown",
      "source": [
        "**Python follows PEMDAS rule for operations**"
      ],
      "metadata": {
        "id": "cD1v2q1XJ3G4"
      }
    },
    {
      "cell_type": "code",
      "source": [
        "(True or False or False) and True\n",
        "#in terms of sign in, user name or Email or contact no and the password will allow three options for signing in"
      ],
      "metadata": {
        "colab": {
          "base_uri": "https://localhost:8080/"
        },
        "id": "GLg5lcRCKEhp",
        "outputId": "c63cbb36-72b2-4a93-8605-ad40c1c7ba62"
      },
      "execution_count": null,
      "outputs": [
        {
          "output_type": "execute_result",
          "data": {
            "text/plain": [
              "True"
            ]
          },
          "metadata": {},
          "execution_count": 31
        }
      ]
    },
    {
      "cell_type": "markdown",
      "source": [
        "**Python Identity Operator** \"id\"\n",
        "\n",
        "Operator\tDescription\t                                            Example\n",
        "**is** \t      Returns True if both variables are the same object\t    x is y\n",
        "**is not**\t  Returns True if both variables are not the same object\tx is not y\n",
        "\n"
      ],
      "metadata": {
        "id": "5sD2TIrEKvjd"
      }
    },
    {
      "cell_type": "code",
      "source": [
        "a = 5\n",
        "b = 5\n",
        "c = 5\n",
        "print(id(a))\n",
        "print(id(b))\n",
        "print(id(c))\n",
        "#why are they the same?\n",
        "\n",
        "\n",
        "a is b\n",
        "b is c\n",
        "c is a"
      ],
      "metadata": {
        "colab": {
          "base_uri": "https://localhost:8080/"
        },
        "id": "ebIWDie2LKsw",
        "outputId": "6b9a792d-bb1c-4bc1-cdba-470ed9d76397"
      },
      "execution_count": null,
      "outputs": [
        {
          "output_type": "stream",
          "name": "stdout",
          "text": [
            "134012452634992\n",
            "134012452634992\n",
            "134012452634992\n"
          ]
        },
        {
          "output_type": "execute_result",
          "data": {
            "text/plain": [
              "True"
            ]
          },
          "metadata": {},
          "execution_count": 33
        }
      ]
    },
    {
      "cell_type": "markdown",
      "source": [
        "**Python membership operators**\n",
        "\n",
        "**in** \t    Returns True if a sequence with the specified value is present in the object\tx in y\n",
        "**not in**\tReturns True if a sequence with the specified value is not present in the object\tx not in y"
      ],
      "metadata": {
        "id": "NmwTTiQuMKlY"
      }
    },
    {
      "cell_type": "code",
      "source": [
        "#membership operator test\n",
        "post = \"\"\"\n",
        "Hey\n",
        "Whats up\n",
        "Eli\n",
        "\"\"\"\n",
        "print(post)"
      ],
      "metadata": {
        "colab": {
          "base_uri": "https://localhost:8080/"
        },
        "id": "LMtxdM7OMcml",
        "outputId": "3b1f378c-97dd-4286-9ed0-1b8aa8789567"
      },
      "execution_count": null,
      "outputs": [
        {
          "output_type": "stream",
          "name": "stdout",
          "text": [
            "\n",
            "Hey\n",
            "Whats up\n",
            "Eli\n",
            "\n"
          ]
        }
      ]
    },
    {
      "cell_type": "code",
      "source": [
        "print(\"eli\" in post)\n",
        "print(\"Eli\" in post)\n"
      ],
      "metadata": {
        "colab": {
          "base_uri": "https://localhost:8080/"
        },
        "id": "VU2UWj0CM16u",
        "outputId": "dd184bfd-bbd1-4b6f-eb71-12542abab2d1"
      },
      "execution_count": null,
      "outputs": [
        {
          "output_type": "stream",
          "name": "stdout",
          "text": [
            "False\n",
            "True\n"
          ]
        }
      ]
    },
    {
      "cell_type": "code",
      "source": [
        "names = [\"Eli\", \"Ellie\", \"EJ\", \"ELish\", \"EJohn\"]\n",
        "print(\"Eli\" in names)\n",
        "print(\"Eli\" not in names)\n",
        "print(\"Ellie\" in names)\n",
        "print(\"Elish\" not in names)\n",
        "print(\"Elishba\" in names)\n",
        "print(\"Elishba\" not in names)"
      ],
      "metadata": {
        "colab": {
          "base_uri": "https://localhost:8080/"
        },
        "id": "kI8RxGSOM_y5",
        "outputId": "e26bff34-fe31-40c2-89af-aa2909164110"
      },
      "execution_count": null,
      "outputs": [
        {
          "output_type": "stream",
          "name": "stdout",
          "text": [
            "True\n",
            "False\n",
            "True\n",
            "True\n",
            "False\n",
            "True\n"
          ]
        }
      ]
    },
    {
      "cell_type": "code",
      "source": [
        "address = [\"pakistan\", \"singapore\", \"heathrow\"]\n",
        "print(\"singapore\" in address)\n",
        "print(\"singapore\" not in address)"
      ],
      "metadata": {
        "colab": {
          "base_uri": "https://localhost:8080/"
        },
        "id": "6Zf-IoEROBy-",
        "outputId": "451bea03-7b3a-425f-f922-dce6b57bddb0"
      },
      "execution_count": null,
      "outputs": [
        {
          "output_type": "stream",
          "name": "stdout",
          "text": [
            "True\n",
            "False\n"
          ]
        }
      ]
    },
    {
      "cell_type": "code",
      "source": [
        "#PEMDAS application\n",
        "# 2\n",
        "# 7-5 = 4\n",
        "# 2*2 = 4\n",
        "# 2+4 = 6\n",
        "\n",
        "2 + 2 * (7 - 5)"
      ],
      "metadata": {
        "colab": {
          "base_uri": "https://localhost:8080/"
        },
        "id": "lsXgTmxpOeHB",
        "outputId": "9a723c6b-090f-4ff1-f60e-45da1acf8ccf"
      },
      "execution_count": null,
      "outputs": [
        {
          "output_type": "execute_result",
          "data": {
            "text/plain": [
              "6"
            ]
          },
          "metadata": {},
          "execution_count": 42
        }
      ]
    },
    {
      "cell_type": "markdown",
      "source": [
        "**Bitwise operators**\n",
        "\n",
        "& \tAND\tSets each bit to 1 if both bits are 1\n",
        "    x & y\n",
        "|\t  OR\tSets each bit to 1 if one of two bits is 1\n",
        "    x | y\n",
        "^\t  XOR\tSets each bit to 1 if only one of two bits is\n",
        "    1\tx ^ y\n",
        "~\t  NOT\tInverts all the bits\n",
        "    ~x\n",
        "<<\tZero fill left shift\tShift left by pushing zeros in from the right and let the leftmost bits fall off\n",
        "    x << 2\n",
        ">>\tSigned right shift\tShift right by pushing copies of the leftmost bit in from the left, and let the rightmost bits fall off\n",
        "    x >> 2"
      ],
      "metadata": {
        "id": "_VOyY6p2O_HE"
      }
    },
    {
      "cell_type": "code",
      "source": [
        "#String Datatypes\n",
        "\n",
        "a = \"Elishba\"\n",
        "b = 'Elishba'\n",
        "c = \"\"\"Elishba\"\"\"\n",
        "d = '''Elishba'''\n",
        "\n",
        "print(type(a),type(b) ,type(c),type(d))\n",
        "print(id(a),id(b) ,id(c),id(d))\n"
      ],
      "metadata": {
        "colab": {
          "base_uri": "https://localhost:8080/"
        },
        "id": "AecA9y0BPd7A",
        "outputId": "3c739668-e3b4-4030-c4bb-e5aec898321e"
      },
      "execution_count": null,
      "outputs": [
        {
          "output_type": "stream",
          "name": "stdout",
          "text": [
            "<class 'str'> <class 'str'> <class 'str'> <class 'str'>\n",
            "134011127958640 134011127958640 134011127958640 134011127958640\n"
          ]
        }
      ]
    },
    {
      "cell_type": "code",
      "source": [
        "# prompt: print all methods of string\n",
        "\n",
        "# Accessing string methods\n",
        "string_methods = dir(str)\n",
        "\n",
        "# Removing dunder methods\n",
        "string_methods = [method for method in string_methods if not method.startswith('__')]\n",
        "\n",
        "# Printing all string methods\n",
        "for method in string_methods:\n"
      ],
      "metadata": {
        "colab": {
          "base_uri": "https://localhost:8080/",
          "height": 106
        },
        "id": "_Fy6MxbhQSLQ",
        "outputId": "8758cdaf-b82a-4111-91d1-cdca8d884658"
      },
      "execution_count": null,
      "outputs": [
        {
          "output_type": "error",
          "ename": "SyntaxError",
          "evalue": "incomplete input (<ipython-input-49-4305e0b84167>, line 10)",
          "traceback": [
            "\u001b[0;36m  File \u001b[0;32m\"<ipython-input-49-4305e0b84167>\"\u001b[0;36m, line \u001b[0;32m10\u001b[0m\n\u001b[0;31m    for method in string_methods:\u001b[0m\n\u001b[0m                                 ^\u001b[0m\n\u001b[0;31mSyntaxError\u001b[0m\u001b[0;31m:\u001b[0m incomplete input\n"
          ]
        }
      ]
    },
    {
      "cell_type": "code",
      "source": [
        "# prompt: print all attributes of string\n",
        "\n",
        "# Accessing string methods\n",
        "string_methods = dir(str)\n",
        "\n",
        "# Removing dunder methods\n",
        "string_methods = [method for method in string_methods if not method.startswith('__')]\n",
        "\n",
        "# Printing all string methods\n",
        "for method in string_methods:\n",
        "method"
      ],
      "metadata": {
        "colab": {
          "base_uri": "https://localhost:8080/",
          "height": 106
        },
        "id": "qWDWiK4yQpLg",
        "outputId": "af4949f5-e95a-416b-c778-a15068b92f7c"
      },
      "execution_count": null,
      "outputs": [
        {
          "output_type": "error",
          "ename": "IndentationError",
          "evalue": "expected an indented block after 'for' statement on line 10 (<ipython-input-50-1894843c90b1>, line 11)",
          "traceback": [
            "\u001b[0;36m  File \u001b[0;32m\"<ipython-input-50-1894843c90b1>\"\u001b[0;36m, line \u001b[0;32m11\u001b[0m\n\u001b[0;31m    method\u001b[0m\n\u001b[0m    ^\u001b[0m\n\u001b[0;31mIndentationError\u001b[0m\u001b[0;31m:\u001b[0m expected an indented block after 'for' statement on line 10\n"
          ]
        }
      ]
    },
    {
      "cell_type": "code",
      "source": [
        "text = \" NEUROPLASTICITY \"\n",
        "print(text.capitalize())\n",
        "print(text.casefold())\n",
        "print(text.upper())\n",
        "print(text.lower())\n",
        "print(text.swapcase())\n",
        "print(text.title())\n",
        "\n",
        "print(text.count('A'))\n",
        "print(text.find('A'))\n",
        "print(text.index('A'))\n",
        "print(text.startswith('N'))\n",
        "print(text.endswith('Y'))\n",
        "print(text.split('O'))\n",
        "print(text.splitlines())\n",
        "\n"
      ],
      "metadata": {
        "colab": {
          "base_uri": "https://localhost:8080/"
        },
        "id": "8KzJUyhQRYj5",
        "outputId": "b9e02ebb-940d-4132-9984-7fb03a7de901"
      },
      "execution_count": null,
      "outputs": [
        {
          "output_type": "stream",
          "name": "stdout",
          "text": [
            " neuroplasticity \n",
            " neuroplasticity \n",
            " NEUROPLASTICITY \n",
            " neuroplasticity \n",
            " neuroplasticity \n",
            " Neuroplasticity \n",
            "1\n",
            "8\n",
            "8\n",
            "False\n",
            "False\n",
            "[' NEUR', 'PLASTICITY ']\n",
            "[' NEUROPLASTICITY ']\n"
          ]
        }
      ]
    },
    {
      "cell_type": "code",
      "source": [
        "names = [\"Eli\", \"Ellie\", \"EJ\", \"ELish\", \"EJohn\"]\n",
        "print(text.join(names))\n",
        "\n",
        "print(names)\n",
        "\" WoW \".join(names)\n"
      ],
      "metadata": {
        "colab": {
          "base_uri": "https://localhost:8080/",
          "height": 70
        },
        "id": "LOBVhj-QTNxt",
        "outputId": "a0db41e7-27b8-4880-9ace-a7073d6bef56"
      },
      "execution_count": null,
      "outputs": [
        {
          "output_type": "stream",
          "name": "stdout",
          "text": [
            "Eli NEUROPLASTICITY Ellie NEUROPLASTICITY EJ NEUROPLASTICITY ELish NEUROPLASTICITY EJohn\n",
            "['Eli', 'Ellie', 'EJ', 'ELish', 'EJohn']\n"
          ]
        },
        {
          "output_type": "execute_result",
          "data": {
            "text/plain": [
              "'Eli WoW Ellie WoW EJ WoW ELish WoW EJohn'"
            ],
            "application/vnd.google.colaboratory.intrinsic+json": {
              "type": "string"
            }
          },
          "metadata": {},
          "execution_count": 68
        }
      ]
    },
    {
      "cell_type": "code",
      "source": [
        "card = '''\n",
        "IOBM\n",
        "EJ\n",
        "MBA\n",
        "2005\n",
        "KHI\n",
        "'''\n",
        "print(card)"
      ],
      "metadata": {
        "colab": {
          "base_uri": "https://localhost:8080/"
        },
        "id": "9Y9dCfeeUAtx",
        "outputId": "0a648549-bbf5-49a5-e067-ff03548dda10"
      },
      "execution_count": null,
      "outputs": [
        {
          "output_type": "stream",
          "name": "stdout",
          "text": [
            "\n",
            "IOBM\n",
            "EJ\n",
            "MBA\n",
            "2005\n",
            "KHI\n",
            "\n"
          ]
        }
      ]
    },
    {
      "cell_type": "code",
      "source": [
        "text1 = \"\"\"\n",
        "Eli {4 + 1}\n",
        "\"\"\"\n",
        "print(text1)\n",
        "\n",
        "\n",
        "text1 = f\"\"\"\n",
        "Eli {4 + 1}\n",
        "\"\"\"\n",
        "print(text1)\n"
      ],
      "metadata": {
        "colab": {
          "base_uri": "https://localhost:8080/"
        },
        "id": "XS3MtuNBUpPK",
        "outputId": "ea9916fc-a312-46c2-fee0-4049d37788af"
      },
      "execution_count": null,
      "outputs": [
        {
          "output_type": "stream",
          "name": "stdout",
          "text": [
            "\n",
            "Eli {4 + 1}\n",
            "\n",
            "\n",
            "Eli 5\n",
            "\n"
          ]
        }
      ]
    },
    {
      "cell_type": "code",
      "source": [
        "#creating loops\n",
        "for name in names:\n",
        "    print(f\"Welcome {name}\")\n",
        "    print(\"Welcome {}\".format(name))\n",
        "    print(\"Welcome %s\" % name)\n",
        "\n",
        "    print(card.format(name))"
      ],
      "metadata": {
        "colab": {
          "base_uri": "https://localhost:8080/"
        },
        "id": "BGqT6YD7VJtS",
        "outputId": "bbb0b082-06f8-474e-c2be-4a9b3adeaabe"
      },
      "execution_count": null,
      "outputs": [
        {
          "output_type": "stream",
          "name": "stdout",
          "text": [
            "Welcome Eli\n",
            "Welcome Eli\n",
            "Welcome Eli\n",
            "\n",
            "IOBM\n",
            "EJ\n",
            "MBA\n",
            "2005\n",
            "KHI\n",
            "\n",
            "Welcome Ellie\n",
            "Welcome Ellie\n",
            "Welcome Ellie\n",
            "\n",
            "IOBM\n",
            "EJ\n",
            "MBA\n",
            "2005\n",
            "KHI\n",
            "\n",
            "Welcome EJ\n",
            "Welcome EJ\n",
            "Welcome EJ\n",
            "\n",
            "IOBM\n",
            "EJ\n",
            "MBA\n",
            "2005\n",
            "KHI\n",
            "\n",
            "Welcome ELish\n",
            "Welcome ELish\n",
            "Welcome ELish\n",
            "\n",
            "IOBM\n",
            "EJ\n",
            "MBA\n",
            "2005\n",
            "KHI\n",
            "\n",
            "Welcome EJohn\n",
            "Welcome EJohn\n",
            "Welcome EJohn\n",
            "\n",
            "IOBM\n",
            "EJ\n",
            "MBA\n",
            "2005\n",
            "KHI\n",
            "\n"
          ]
        }
      ]
    },
    {
      "cell_type": "code",
      "source": [
        "# prompt: print all methods of string\n",
        "\n",
        "# Accessing string methods\n",
        "string_methods = dir(str)\n",
        "\n",
        "# Removing dunder methods\n",
        "string_methods = [method for method in string_methods if not method.startswith('__')]\n",
        "\n",
        "# Printing all string methods\n",
        "for method in string_methods:\n",
        "method"
      ],
      "metadata": {
        "colab": {
          "base_uri": "https://localhost:8080/",
          "height": 106
        },
        "id": "LYPOpIYwVlgr",
        "outputId": "978a9f6a-a276-4597-f282-53b89dd7a038"
      },
      "execution_count": null,
      "outputs": [
        {
          "output_type": "error",
          "ename": "IndentationError",
          "evalue": "expected an indented block after 'for' statement on line 10 (<ipython-input-79-49f546417a67>, line 11)",
          "traceback": [
            "\u001b[0;36m  File \u001b[0;32m\"<ipython-input-79-49f546417a67>\"\u001b[0;36m, line \u001b[0;32m11\u001b[0m\n\u001b[0;31m    method\u001b[0m\n\u001b[0m    ^\u001b[0m\n\u001b[0;31mIndentationError\u001b[0m\u001b[0;31m:\u001b[0m expected an indented block after 'for' statement on line 10\n"
          ]
        }
      ]
    },
    {
      "cell_type": "code",
      "source": [
        "# prompt: print all methods of string\n",
        "\n",
        "# Accessing string methods\n",
        "string_methods = dir(str)\n",
        "\n",
        "# Removing dunder methods\n",
        "string_methods = [method for method in string_methods if not method.startswith('__')]\n",
        "\n",
        "# Printing all string methods\n",
        "for method in string_methods:\n",
        "    # Indented the 'method' statement to execute within the loop\n",
        "    print(method) #Added print statement to display each method"
      ],
      "metadata": {
        "colab": {
          "base_uri": "https://localhost:8080/"
        },
        "id": "iB_2MuKJXBEY",
        "outputId": "f6f637c5-0bdf-4ea2-9545-0439bb7ea56b"
      },
      "execution_count": null,
      "outputs": [
        {
          "output_type": "stream",
          "name": "stdout",
          "text": [
            "capitalize\n",
            "casefold\n",
            "center\n",
            "count\n",
            "encode\n",
            "endswith\n",
            "expandtabs\n",
            "find\n",
            "format\n",
            "format_map\n",
            "index\n",
            "isalnum\n",
            "isalpha\n",
            "isascii\n",
            "isdecimal\n",
            "isdigit\n",
            "isidentifier\n",
            "islower\n",
            "isnumeric\n",
            "isprintable\n",
            "isspace\n",
            "istitle\n",
            "isupper\n",
            "join\n",
            "ljust\n",
            "lower\n",
            "lstrip\n",
            "maketrans\n",
            "partition\n",
            "removeprefix\n",
            "removesuffix\n",
            "replace\n",
            "rfind\n",
            "rindex\n",
            "rjust\n",
            "rpartition\n",
            "rsplit\n",
            "rstrip\n",
            "split\n",
            "splitlines\n",
            "startswith\n",
            "strip\n",
            "swapcase\n",
            "title\n",
            "translate\n",
            "upper\n",
            "zfill\n"
          ]
        }
      ]
    }
  ]
}