{
  "nbformat": 4,
  "nbformat_minor": 0,
  "metadata": {
    "colab": {
      "provenance": [],
      "authorship_tag": "ABX9TyMk5rQJM8dRm1aEI6PvXGHl",
      "include_colab_link": true
    },
    "kernelspec": {
      "name": "python3",
      "display_name": "Python 3"
    },
    "language_info": {
      "name": "python"
    }
  },
  "cells": [
    {
      "cell_type": "markdown",
      "metadata": {
        "id": "view-in-github",
        "colab_type": "text"
      },
      "source": [
        "<a href=\"https://colab.research.google.com/github/EJ-Ellie-John/NEDpython/blob/main/Exam_Batch_X_Elishba_John.ipynb\" target=\"_parent\"><img src=\"https://colab.research.google.com/assets/colab-badge.svg\" alt=\"Open In Colab\"/></a>"
      ]
    },
    {
      "cell_type": "markdown",
      "source": [
        "# **1. OOP – Class Methods**\n",
        "\n",
        "Create a Python class named Book that has attributes for title, author, and publication_year. Implement the following methods:\n",
        "\n",
        "\t•\t__init__: Initialize the attributes.\n",
        "\t•\t__repr__: Return a clear, formatted string representation of the object.\n",
        "\t•\t__call__: When an instance is called with a new publication year, update the publication_year attribute.\n",
        "\n",
        "\n",
        "Provide example usage and explain the role of each method.\n"
      ],
      "metadata": {
        "id": "SEoLj9HStfXt"
      }
    },
    {
      "cell_type": "code",
      "source": [
        "class Book:\n",
        "\n",
        "    def __init__(self, title, author, publication_year):\n",
        "        self.title = title\n",
        "        self.author = author\n",
        "        self.publication_year = publication_year\n",
        "\n",
        "    def __repr__(self):\n",
        "        return f\"Book(title='{self.title}', author='{self.author}', publication_year={self.publication_year})\"\n",
        "\n",
        "    def __call__(self, publication_year):\n",
        "        self.publication_year = publication_year\n",
        "        return self.publication_year\n",
        "\n",
        "Eli_book = Book(\"The rise of AI\", \"John Beckman\", \"1999\")\n",
        "print(Eli_book)\n",
        "Eli_book(2000)\n",
        "print(Eli_book)\n",
        "\n",
        "#print(__init__(self, title, author, publication_year))\n",
        "#print(__repr__(self))\n",
        "#print(__call__(self, publication_year))"
      ],
      "metadata": {
        "colab": {
          "base_uri": "https://localhost:8080/"
        },
        "id": "PlH9w0L-s7cx",
        "outputId": "62b654e3-98b6-47ef-8a6f-f1340769c0ee"
      },
      "execution_count": 28,
      "outputs": [
        {
          "output_type": "stream",
          "name": "stdout",
          "text": [
            "Book(title='The rise of AI', author='John Beckman', publication_year=1999)\n",
            "Book(title='The rise of AI', author='John Beckman', publication_year=2000)\n"
          ]
        }
      ]
    },
    {
      "cell_type": "markdown",
      "source": [
        "**Answer Continued:**\n",
        "\n",
        "Examples of Class method\n",
        "Makes it easier to categories real life objects, e.g. tranportation categories (air cargo, ship load, train bilti, truck load, or car courier etc)\n",
        "\n",
        "Methods allow for interaction and assigning attributes (features) to each class, this create an open field to play with real life objects.\n",
        "\n",
        "INIT: allows you to assign attributes to a class, etc Car  has features of\n",
        "model, year of manufacturing, enginepower, doors, passenger seats, technical aspects, color, size, etc\n",
        "\n",
        "REPR: allows for a certain formatting of the attributes and how to return them, it helps return information in more human acceptable formats, i.e. output is more  readable and comprehendable in human context.\n",
        "\n",
        "CALL: allows for performing changes on a specific attribute of the class, and the remaining information is intact. Reaching out a specific information in a dataset of cars and updating it.\n",
        "\n",
        "\n"
      ],
      "metadata": {
        "id": "pGFxtsc5vue9"
      }
    },
    {
      "cell_type": "markdown",
      "source": [
        "# **2. File Handling – Reading and Seeking**\n",
        "\n",
        "Write a Python script that does the following:\n",
        "\t•\tOpens a text file using the with open statement.\n",
        "\t•\tReads the first 100 characters of the file.\n",
        "\t•\tUses the seek() method to return to the beginning of the file.\n",
        "\t•\tReads and prints the entire file content.\n",
        "\n",
        "\n",
        "Explain the importance of using with open and how the seek() method affects file reading.\n"
      ],
      "metadata": {
        "id": "Wi_WPaxmwbZp"
      }
    },
    {
      "cell_type": "code",
      "source": [
        "filepath = \"C:\\Users\\elishba.john\\ExamBatchXPython.txt\"\n",
        "\n",
        "   with open(filepath, \"r\") as file:\n",
        "      content = file.read(100)\n",
        "      file.seek(0)\n",
        "      content = file.read()\n",
        "      print(content)\n",
        "\n",
        "\n",
        "#file = open(filepath, \"r\")\n",
        "\n",
        "#content = file.read(100)\n",
        "#print(content)\n",
        "\n",
        "#file.seek(0)\n",
        "\n",
        "#content = file.read()\n",
        "#print(content)\n",
        "\n",
        "file.open.seek(0)\n",
        "\n",
        "content = file.open.read()\n",
        "print(content)\n"
      ],
      "metadata": {
        "colab": {
          "base_uri": "https://localhost:8080/",
          "height": 106
        },
        "id": "MMitr5ttxaar",
        "outputId": "ce8fa615-d6e5-47d5-f277-2b34ad7d480e"
      },
      "execution_count": 71,
      "outputs": [
        {
          "output_type": "error",
          "ename": "SyntaxError",
          "evalue": "(unicode error) 'unicodeescape' codec can't decode bytes in position 2-3: truncated \\UXXXXXXXX escape (<ipython-input-71-b6117c17e737>, line 1)",
          "traceback": [
            "\u001b[0;36m  File \u001b[0;32m\"<ipython-input-71-b6117c17e737>\"\u001b[0;36m, line \u001b[0;32m1\u001b[0m\n\u001b[0;31m    filepath = \"C:\\Users\\elishba.john\\ExamBatchXPython.txt\"\u001b[0m\n\u001b[0m                                                           ^\u001b[0m\n\u001b[0;31mSyntaxError\u001b[0m\u001b[0;31m:\u001b[0m (unicode error) 'unicodeescape' codec can't decode bytes in position 2-3: truncated \\UXXXXXXXX escape\n"
          ]
        }
      ]
    },
    {
      "cell_type": "markdown",
      "source": [
        "The above code is correct, tried two different methods, but the filepath is not being read. Neither on desktop or C drive folder.\n",
        "\n",
        "**Answer continued:**\n",
        "\n",
        "The use of Open Seek allows for making explicit changes for data files, allowing user to modify details as user input"
      ],
      "metadata": {
        "id": "PLZi73g81Jiu"
      }
    },
    {
      "cell_type": "markdown",
      "source": [
        "# **3. Functions – Recursion, Decorators, and Lambda**\n",
        "\n",
        "a. Implement a recursive function to calculate the nth Fibonacci number.\n",
        "b. Create a decorator that logs the function’s input and output each time the Fibonacci function is called.\n",
        "c. Write a lambda function that takes a list of numbers and sorts them in ascending order.\n",
        "\n",
        "\n",
        "Provide explanations on how recursion works, the benefit of using decorators for logging, and why lambda functions can be useful in such contexts.\n"
      ],
      "metadata": {
        "id": "Apl122291cEs"
      }
    },
    {
      "cell_type": "code",
      "source": [
        "def fib_recur(n):\n",
        "    if n <= 1:\n",
        "        return n\n",
        "    else:\n",
        "        return fib_recur(n-1) + fib_recur(n-2)\n",
        "\n",
        "def log_decorator(func):\n",
        "    def wrapper(*args, **kwargs):\n",
        "        result = func(*args, **kwargs)\n",
        "        print(f\"Function '{func.__name__}' called with arguments {args}, {kwargs}\")\n",
        "        print(f\"Result: {result}\")\n",
        "        return result\n",
        "    return wrapper\n",
        "\n",
        "@log_decorator\n",
        "def fib_with_log(n):\n",
        "    return fib_recur(n)\n",
        "\n",
        "sorted_lambda = lambda numbers: sorted(numbers)\n",
        "\n",
        "print(fib_recur(9))\n",
        "print(fib_with_log(9))\n",
        "numbers = [3, 1, 4, 1, 5, 9, 2, 6]\n",
        "#sorted order\n",
        "print(sorted_lambda(numbers))"
      ],
      "metadata": {
        "colab": {
          "base_uri": "https://localhost:8080/"
        },
        "id": "KpllSKsK2JJK",
        "outputId": "d5e8c5b2-3202-4f7e-de7a-66db26d9b84a"
      },
      "execution_count": 35,
      "outputs": [
        {
          "output_type": "stream",
          "name": "stdout",
          "text": [
            "34\n",
            "Function 'fib_with_log' called with arguments (9,), {}\n",
            "Result: 34\n",
            "34\n",
            "[1, 1, 2, 3, 4, 5, 6, 9]\n"
          ]
        }
      ]
    },
    {
      "cell_type": "markdown",
      "source": [
        "**Answer Continued:**\n",
        "\n",
        "Recursive function allows for looping,\n",
        "\n",
        "Decorater function allows for specific formatting as need in real life situations, websites, forms by banks, user social media accounts etc.\n",
        "\n",
        "Lambda funtions are useful as a placeholder for variable.\n",
        "\n"
      ],
      "metadata": {
        "id": "21RMG9OC26xw"
      }
    },
    {
      "cell_type": "markdown",
      "source": [
        "# **4 . Data Types – Lists, Dictionaries, Tuples, and Sets**\n",
        "\n",
        "Design a Python program that stores student records, where each record consists of a student’s name and grade, using different data structures:\n",
        "\n",
        "\t•\tA list for an ordered collection of student names.\n",
        "\t•\tA dictionary mapping student names to their grades.\n",
        "\t•\tA tuple representing an immutable student record.\n",
        "\t•\tA set for a collection of unique student names.\n",
        "\n",
        "Demonstrate key operations (such as adding, updating, retrieving, and deleting elements) for each data structure, and discuss the strengths and weaknesses of each type.\n"
      ],
      "metadata": {
        "id": "d85Xw7JE3lDL"
      }
    },
    {
      "cell_type": "code",
      "source": [
        "student_info = [\"Ali\", \"Babar\", \"Cainat\", \"Darood\", \"Eli\", \"Fawad\", \"Ghania\", \"Ali\"]\n",
        "print(student_info)\n",
        "\n",
        "student_grade = {\"Ali\": 90, \"Babar\": 91, \"Cainat\": 92, \"Darood\": 93, \"Eli\": 94, \"Fawad\": 95, \"Ghania\": 96, \"Ali\": 97}\n",
        "print(student_grade)\n",
        "\n",
        "student_record = (\"Haseeb\", 98)\n",
        "print(student_record)\n",
        "\n",
        "student_unique = {\"Haseeb\", \"Ali\", \"Babar\", \"Cainat\", \"Darood\", \"Eli\", \"Fawad\", \"Ghania\", \"Ali\"}\n",
        "print(student_unique)\n",
        "\n",
        "\n",
        "\n",
        "student_info.append(\"Dania\")\n",
        "student_info[0] = \"Aleem\"\n",
        "print(student_info[1])\n",
        "del student_info[2]\n",
        "\n",
        "\n",
        "student_grade[\"Babar\"] = 88\n",
        "student_grade[\"Darood\"] = 90\n",
        "print(student_grade.get(\"Eli\"))\n",
        "del student_grade[\"Fawad\"]\n",
        "\n",
        "\n",
        "print(student_record[0])\n",
        "print(student_record[1])\n",
        "\n",
        "\n",
        "student_unique.add(\"Meena\")\n",
        "student_unique.discard(\"Cainat\")\n",
        "print(\"Darood\" in student_unique)\n",
        "\n"
      ],
      "metadata": {
        "colab": {
          "base_uri": "https://localhost:8080/"
        },
        "id": "mZlqFSnQ33RP",
        "outputId": "31d8bef5-5e81-4a83-aa14-8ef0b9805134"
      },
      "execution_count": 42,
      "outputs": [
        {
          "output_type": "stream",
          "name": "stdout",
          "text": [
            "['Ali', 'Babar', 'Cainat', 'Darood', 'Eli', 'Fawad', 'Ghania', 'Ali']\n",
            "{'Ali': 97, 'Babar': 91, 'Cainat': 92, 'Darood': 93, 'Eli': 94, 'Fawad': 95, 'Ghania': 96}\n",
            "('Haseeb', 98)\n",
            "{'Haseeb', 'Ali', 'Fawad', 'Ghania', 'Cainat', 'Darood', 'Babar', 'Eli'}\n",
            "Babar\n",
            "94\n",
            "Haseeb\n",
            "98\n",
            "True\n"
          ]
        }
      ]
    },
    {
      "cell_type": "markdown",
      "source": [
        "**Answer continued:**\n",
        "\n",
        "**          Strength                        Weakness**\n",
        "\n",
        "**List**      Easy to change                  Mutable\n",
        "\n",
        "**Dict**      keys are not duplicated         Mutable\n",
        "\n",
        "**Tuple**     Immutable                   \n",
        "\n",
        "**Set**       Easy to change, no duplication  Mutable\n",
        "\n",
        "\n"
      ],
      "metadata": {
        "id": "Gist2iQ76uNN"
      }
    },
    {
      "cell_type": "markdown",
      "source": [
        "# **5. f-Strings – Advanced Formatting**\n",
        "\n",
        "\n",
        "Given a list of products where each product includes a name, price, and release date, write a Python program that uses advanced f-string formatting to print a neatly aligned table of product information.\n",
        "\n",
        "\t•\tFormat the price as currency (e.g., with two decimal places and a dollar sign).\n",
        "\t•\tDisplay the release date in a human-readable format (e.g., “Jan 01, 2025”).\n",
        "\n",
        "Explain how f-strings improve code readability and formatting precision.\n"
      ],
      "metadata": {
        "id": "rDuB1HPm7s4c"
      }
    },
    {
      "cell_type": "code",
      "source": [
        "from datetime import datetime\n",
        "\n",
        "products = [\n",
        "    {\"name\": \"Earbud\", \"price\": 5500.00, \"release_date\": datetime(2024, 1, 15)},\n",
        "    {\"name\": \"Headset\", \"price\": 7500.00, \"release_date\": datetime(2025, 1, 20)},\n",
        "    {\"name\": \"Headphones\", \"price\": 15000.00, \"release_date\": datetime(2024, 2, 14)},\n",
        "]\n",
        "\n",
        "name_format = \"{:<15}\"\n",
        "#price_format = \"Rs.{:>10,.2f}\"\n",
        "price_format = \"${:>10,.2f}\"\n",
        "date_format = \"    {:%b %d, %Y}\"\n",
        "\n",
        "#header = f\"{name_format.format(),price_format.format(),date_format.format(datetime.now())}\"\n",
        "#print(header)\n",
        "\n",
        "print(f\"{name_format.format('Name')}{price_format.format(0.00)}{date_format.format(datetime.now())}\")\n",
        "print()\n",
        "\n",
        "for product in products:\n",
        "    print(name_format.format(product[\"name\"]) +\n",
        "          price_format.format(product[\"price\"]) +\n",
        "          date_format.format(product[\"release_date\"]))\n"
      ],
      "metadata": {
        "colab": {
          "base_uri": "https://localhost:8080/"
        },
        "id": "KXaOzUmC8Hax",
        "outputId": "a8720fef-7ce0-4b3f-8973-778121ff761c"
      },
      "execution_count": 68,
      "outputs": [
        {
          "output_type": "stream",
          "name": "stdout",
          "text": [
            "Name           $      0.00    Feb 22, 2025\n",
            "\n",
            "Earbud         $  5,500.00    Jan 15, 2024\n",
            "Headset        $  7,500.00    Jan 20, 2025\n",
            "Headphones     $ 15,000.00    Feb 14, 2024\n"
          ]
        }
      ]
    },
    {
      "cell_type": "markdown",
      "source": [
        "Answer continued:\n",
        "\n",
        " f-strings allows for precision placement of data and allows for display as required in table for human readibility.\n",
        "\n",
        " The various formats for date type, decimal point application, colons, and text associated with data\n",
        ""
      ],
      "metadata": {
        "id": "RQprTedY_RNs"
      }
    }
  ]
}