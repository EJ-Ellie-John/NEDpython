{
  "nbformat": 4,
  "nbformat_minor": 0,
  "metadata": {
    "colab": {
      "provenance": [],
      "authorship_tag": "ABX9TyPm41pP0ld9sL3SVsjfwZFd",
      "include_colab_link": true
    },
    "kernelspec": {
      "name": "python3",
      "display_name": "Python 3"
    },
    "language_info": {
      "name": "python"
    }
  },
  "cells": [
    {
      "cell_type": "markdown",
      "metadata": {
        "id": "view-in-github",
        "colab_type": "text"
      },
      "source": [
        "<a href=\"https://colab.research.google.com/github/EJ-Ellie-John/NEDpython/blob/main/EJ_Trial_1004.ipynb\" target=\"_parent\"><img src=\"https://colab.research.google.com/assets/colab-badge.svg\" alt=\"Open In Colab\"/></a>"
      ]
    },
    {
      "cell_type": "markdown",
      "source": [
        "#dictionary and tuple"
      ],
      "metadata": {
        "id": "sbv8wTvBBLOP"
      }
    },
    {
      "cell_type": "code",
      "execution_count": null,
      "metadata": {
        "colab": {
          "base_uri": "https://localhost:8080/"
        },
        "id": "npHGVXYfAFB3",
        "outputId": "e64d0b5d-14cb-49c1-e8ce-d5808b318e81"
      },
      "outputs": [
        {
          "output_type": "stream",
          "name": "stdout",
          "text": [
            "c\n",
            "3\n"
          ]
        }
      ],
      "source": [
        "#         0   1   2   3  4 5 6 7\n",
        "names = ['a','b','c','d',1,2,3,4]\n",
        "#         -8 -7  -6 -5 -4 -3 -2 -1\n",
        "\n",
        "print(names[2])\n",
        "print(names[-2])\n"
      ]
    },
    {
      "cell_type": "markdown",
      "source": [
        "Slicing\n",
        "start = include\n",
        "end = exclude(n-1)\n",
        "step = sequence"
      ],
      "metadata": {
        "id": "VXos4fSoCJB3"
      }
    },
    {
      "cell_type": "code",
      "source": [
        "#         0   1   2   3  4 5 6 7\n",
        "names = ['a','b','c','d',1,2,3,4]\n",
        "#         -8 -7  -6 -5 -4 -3 -2 -1\n",
        "\n",
        "print(names[0:4])\n",
        "\n",
        "print(names[-8:-4])\n",
        "\n",
        "print(names[0:-4])\n",
        "print(names[-8:4])\n",
        "\n",
        "# negative and positive indexing work"
      ],
      "metadata": {
        "colab": {
          "base_uri": "https://localhost:8080/"
        },
        "id": "Ekjy8G1pCUC8",
        "outputId": "07bda14a-5581-43ce-b67a-ad3fe9008026"
      },
      "execution_count": null,
      "outputs": [
        {
          "output_type": "stream",
          "name": "stdout",
          "text": [
            "['a', 'b', 'c', 'd']\n",
            "['a', 'b', 'c', 'd']\n",
            "['a', 'b', 'c', 'd']\n",
            "['a', 'b', 'c', 'd']\n"
          ]
        }
      ]
    },
    {
      "cell_type": "code",
      "source": [
        "#         0   1   2   3  4 5 6 7\n",
        "names = ['a','b','c','d',1,2,3,4]\n",
        "#         -8 -7  -6 -5 -4 -3 -2 -1\n",
        "\n",
        "#order left to right\n",
        "print(names[::1])\n",
        "print(names[::2])\n",
        "print(names[::3])\n",
        "\n",
        "#reverse right to left\n",
        "print(names[::-1])\n",
        "print(names[::-2])\n",
        "print(names[::-3])\n",
        "print(names[-4:-7:-1])\n",
        "print(names[-4:-7:1])\n",
        "\n"
      ],
      "metadata": {
        "colab": {
          "base_uri": "https://localhost:8080/"
        },
        "id": "mAogr8C3FWya",
        "outputId": "d0d3ea8d-fc4e-43ec-beb5-bdbfab9ec2fd"
      },
      "execution_count": null,
      "outputs": [
        {
          "output_type": "stream",
          "name": "stdout",
          "text": [
            "['a', 'b', 'c', 'd', 1, 2, 3, 4]\n",
            "['a', 'c', 1, 3]\n",
            "['a', 'd', 3]\n",
            "[4, 3, 2, 1, 'd', 'c', 'b', 'a']\n",
            "[4, 2, 'd', 'b']\n",
            "[4, 1, 'b']\n",
            "[1, 'd', 'c']\n",
            "[]\n"
          ]
        }
      ]
    },
    {
      "cell_type": "code",
      "source": [
        "#          0     1       2        3   4    5\n",
        "data1 = [\"Ellie\",\"PGD\",\"Batch X\",\"NED\",10,\"11am\",5000,201000]\n",
        "data2 = [\"EJ\",\"MBA\",\"Batch 14\", \"IoBM\",25,\"9am\",40000,300000]\n",
        "\n",
        " # Naming, data type can get interchanged, like columns get interchanged expiry of passport date is entered in issuance of passport date\n",
        " # Introduction to dictionary\n",
        "\n",
        "\n"
      ],
      "metadata": {
        "id": "zxmSnm1uGmQj"
      },
      "execution_count": null,
      "outputs": []
    },
    {
      "cell_type": "code",
      "source": [
        "# prompt: print list of methods in strings\n",
        "\n",
        "print(dir(str))"
      ],
      "metadata": {
        "colab": {
          "base_uri": "https://localhost:8080/"
        },
        "id": "9zdyBx8ZIvzm",
        "outputId": "bff26e91-5981-4700-b5c7-ab8886564b09"
      },
      "execution_count": null,
      "outputs": [
        {
          "output_type": "stream",
          "name": "stdout",
          "text": [
            "['__add__', '__class__', '__contains__', '__delattr__', '__dir__', '__doc__', '__eq__', '__format__', '__ge__', '__getattribute__', '__getitem__', '__getnewargs__', '__getstate__', '__gt__', '__hash__', '__init__', '__init_subclass__', '__iter__', '__le__', '__len__', '__lt__', '__mod__', '__mul__', '__ne__', '__new__', '__reduce__', '__reduce_ex__', '__repr__', '__rmod__', '__rmul__', '__setattr__', '__sizeof__', '__str__', '__subclasshook__', 'capitalize', 'casefold', 'center', 'count', 'encode', 'endswith', 'expandtabs', 'find', 'format', 'format_map', 'index', 'isalnum', 'isalpha', 'isascii', 'isdecimal', 'isdigit', 'isidentifier', 'islower', 'isnumeric', 'isprintable', 'isspace', 'istitle', 'isupper', 'join', 'ljust', 'lower', 'lstrip', 'maketrans', 'partition', 'removeprefix', 'removesuffix', 'replace', 'rfind', 'rindex', 'rjust', 'rpartition', 'rsplit', 'rstrip', 'split', 'splitlines', 'startswith', 'strip', 'swapcase', 'title', 'translate', 'upper', 'zfill']\n"
          ]
        }
      ]
    },
    {
      "cell_type": "code",
      "source": [
        "print(dir(list))"
      ],
      "metadata": {
        "colab": {
          "base_uri": "https://localhost:8080/"
        },
        "id": "gWAVn24OI79B",
        "outputId": "33afb394-752a-43de-9440-4f2e8865f9cb"
      },
      "execution_count": null,
      "outputs": [
        {
          "output_type": "stream",
          "name": "stdout",
          "text": [
            "['__add__', '__class__', '__class_getitem__', '__contains__', '__delattr__', '__delitem__', '__dir__', '__doc__', '__eq__', '__format__', '__ge__', '__getattribute__', '__getitem__', '__getstate__', '__gt__', '__hash__', '__iadd__', '__imul__', '__init__', '__init_subclass__', '__iter__', '__le__', '__len__', '__lt__', '__mul__', '__ne__', '__new__', '__reduce__', '__reduce_ex__', '__repr__', '__reversed__', '__rmul__', '__setattr__', '__setitem__', '__sizeof__', '__str__', '__subclasshook__', 'append', 'clear', 'copy', 'count', 'extend', 'index', 'insert', 'pop', 'remove', 'reverse', 'sort']\n"
          ]
        }
      ]
    },
    {
      "cell_type": "code",
      "source": [
        "#         0   1   2   3  4 5 6 7\n",
        "names = ['a','b','c','d',1,2,3,4]\n",
        "#         -8 -7  -6 -5 -4 -3 -2 -1\n",
        "\n",
        "print(type(names))\n",
        "print(type(data1))"
      ],
      "metadata": {
        "colab": {
          "base_uri": "https://localhost:8080/"
        },
        "id": "H2cNLPRhJG6J",
        "outputId": "c0f2bf8d-e3db-4e6b-9b0e-eca1eb83e12f"
      },
      "execution_count": null,
      "outputs": [
        {
          "output_type": "stream",
          "name": "stdout",
          "text": [
            "<class 'list'>\n",
            "<class 'list'>\n"
          ]
        }
      ]
    },
    {
      "cell_type": "markdown",
      "source": [
        "Tuple password is a tuple and is imutable\n",
        "\n",
        "List is []\n",
        "Tuple is ()\n",
        "Set is {}"
      ],
      "metadata": {
        "id": "l7tdr4U9Jtun"
      }
    },
    {
      "cell_type": "code",
      "source": [
        "data1 = (\"Ellie\",\"PGD\",\"Batch X\",\"NED\",10,\"11am\",5000,201000)\n",
        "print(data1)\n",
        "data2 = (\"EJ\",\"MBA\",\"Batch 14\", \"IoBM\",25,\"9am\",40000,300000)\n",
        "print(data2)\n",
        "\n",
        "data1 = (\"Elishba\",\"PGD\",\"Batch X\",\"NED\",10,\"11am\",5000,201000) #reassignment and creation of new tuple\n",
        "print(data1)\n",
        "\n",
        "#tuple can be multidimensional"
      ],
      "metadata": {
        "colab": {
          "base_uri": "https://localhost:8080/"
        },
        "id": "czGepqduJzmK",
        "outputId": "86cf253a-867d-487a-ceb6-7b184bcaaedd"
      },
      "execution_count": null,
      "outputs": [
        {
          "output_type": "stream",
          "name": "stdout",
          "text": [
            "('Ellie', 'PGD', 'Batch X', 'NED', 10, '11am', 5000, 201000)\n",
            "('EJ', 'MBA', 'Batch 14', 'IoBM', 25, '9am', 40000, 300000)\n",
            "('Elishba', 'PGD', 'Batch X', 'NED', 10, '11am', 5000, 201000)\n"
          ]
        }
      ]
    },
    {
      "cell_type": "code",
      "source": [
        "print(dir(tuple))\n",
        "\n",
        "#count and index only"
      ],
      "metadata": {
        "colab": {
          "base_uri": "https://localhost:8080/"
        },
        "id": "rRV6aqawKevb",
        "outputId": "631e8bb1-f879-4a22-d510-6883eb10b9ab"
      },
      "execution_count": null,
      "outputs": [
        {
          "output_type": "stream",
          "name": "stdout",
          "text": [
            "['__add__', '__class__', '__class_getitem__', '__contains__', '__delattr__', '__dir__', '__doc__', '__eq__', '__format__', '__ge__', '__getattribute__', '__getitem__', '__getnewargs__', '__getstate__', '__gt__', '__hash__', '__init__', '__init_subclass__', '__iter__', '__le__', '__len__', '__lt__', '__mul__', '__ne__', '__new__', '__reduce__', '__reduce_ex__', '__repr__', '__rmul__', '__setattr__', '__sizeof__', '__str__', '__subclasshook__', 'count', 'index']\n"
          ]
        }
      ]
    },
    {
      "cell_type": "markdown",
      "source": [
        "Set"
      ],
      "metadata": {
        "id": "VFHJP2pHKTbp"
      }
    },
    {
      "cell_type": "code",
      "source": [
        "a1 = {\"a\",\"b\",\"c\",\"a\",\"a\",\"c\",\"b\",1,2,2,2,2}\n",
        "print(a1)"
      ],
      "metadata": {
        "colab": {
          "base_uri": "https://localhost:8080/"
        },
        "id": "G4l_vPwNK0Da",
        "outputId": "749ebf92-632c-42d7-bb31-787d2cb8d966"
      },
      "execution_count": null,
      "outputs": [
        {
          "output_type": "stream",
          "name": "stdout",
          "text": [
            "{1, 2, 'c', 'a', 'b'}\n"
          ]
        }
      ]
    },
    {
      "cell_type": "code",
      "source": [
        "print(dir(set))\n",
        "\n",
        "#'add', 'clear', 'copy', 'difference', 'difference_update', 'discard',\n",
        "#'intersection', 'intersection_update', 'isdisjoint', 'issubset', 'issuperset', #\n",
        "#'pop', 'remove', 'symmetric_difference', 'symmetric_difference_update', 'union', 'update'\n"
      ],
      "metadata": {
        "colab": {
          "base_uri": "https://localhost:8080/"
        },
        "id": "hnM8lF1LLFPF",
        "outputId": "fadc21e6-841e-4c19-8db4-10958373ec6d"
      },
      "execution_count": null,
      "outputs": [
        {
          "output_type": "stream",
          "name": "stdout",
          "text": [
            "['__and__', '__class__', '__class_getitem__', '__contains__', '__delattr__', '__dir__', '__doc__', '__eq__', '__format__', '__ge__', '__getattribute__', '__getstate__', '__gt__', '__hash__', '__iand__', '__init__', '__init_subclass__', '__ior__', '__isub__', '__iter__', '__ixor__', '__le__', '__len__', '__lt__', '__ne__', '__new__', '__or__', '__rand__', '__reduce__', '__reduce_ex__', '__repr__', '__ror__', '__rsub__', '__rxor__', '__setattr__', '__sizeof__', '__str__', '__sub__', '__subclasshook__', '__xor__', 'add', 'clear', 'copy', 'difference', 'difference_update', 'discard', 'intersection', 'intersection_update', 'isdisjoint', 'issubset', 'issuperset', 'pop', 'remove', 'symmetric_difference', 'symmetric_difference_update', 'union', 'update']\n"
          ]
        }
      ]
    },
    {
      "cell_type": "code",
      "source": [
        "a1 ={\"a\",\"b\",\"c\"}\n",
        "a2 = {\"a\",\"c\",\"x\"}\n",
        "\n",
        "print(a1.difference(a2))\n",
        "print(a2.difference(a1))\n",
        "\n",
        "print(a1.intersection(a2))\n",
        "print(a2.intersection(a1))\n",
        "#state bank prompt fraud CNIC and all bank CNIC\n",
        "#\n",
        "\n",
        "print(a1.union(a2))\n",
        "print(a2.union(a1))\n",
        "\n",
        "sbp = {1,2,3}\n",
        "fraud = {2,4,7}\n",
        "\n",
        "print(sbp.intersection(fraud))\n",
        "print(fraud.intersection(sbp))\n",
        "#state bank prompt fraud CNIC and all bank CNIC\n",
        "print(sbp.difference(fraud)) #??\n",
        "print(fraud.difference(sbp)) #??\n"
      ],
      "metadata": {
        "colab": {
          "base_uri": "https://localhost:8080/"
        },
        "id": "0AOFEnLQLXol",
        "outputId": "a5113a99-6218-42a6-d458-0bbc2abcc2ec"
      },
      "execution_count": null,
      "outputs": [
        {
          "output_type": "stream",
          "name": "stdout",
          "text": [
            "{'b'}\n",
            "{'x'}\n",
            "{'a', 'c'}\n",
            "{'a', 'c'}\n",
            "{'x', 'c', 'a', 'b'}\n",
            "{'x', 'c', 'a', 'b'}\n",
            "{2}\n",
            "{2}\n",
            "{1, 3}\n",
            "{4, 7}\n"
          ]
        }
      ]
    },
    {
      "cell_type": "markdown",
      "source": [
        "Dictionary\n",
        "Replace index by Key\n",
        "{key}"
      ],
      "metadata": {
        "id": "UJG2-2kiNGaU"
      }
    },
    {
      "cell_type": "code",
      "source": [
        "#{key:value}\n",
        "#data1 = (\"Ellie\",\"PGD\",\"Batch X\",\"NED\",10,\"11am\",5000,201000)\n",
        "\n",
        "data1 = {\n",
        "    \"name\":\"Ellie\",\n",
        "    \"qualification\":\"PGD\",\n",
        "    \"batch\":\"Batch X\",\n",
        "    \"institute\":\"NED\"\n",
        "    }\n",
        "print(data1)\n",
        "print(type(data1))\n",
        "\n",
        "data2 = {\"name\":\"EJ\",\n",
        "\"DEG\":\"MBA\",\n",
        "         \"YEAR\":\"Batch 14\",\n",
        "         \"INST\":\"IoBM\",\n",
        "         \"YR\":25,\n",
        "         \"CLS\":\"9am\",\n",
        "         \"SEM\":40000,\n",
        "         \"FIN\":300000}\n",
        "\n",
        "print(data2)\n",
        "\n",
        "#output of specific info from Dic, data set or form\n",
        "print(data1['name'])\n",
        "\n",
        "print(data2['SEM'])\n"
      ],
      "metadata": {
        "colab": {
          "base_uri": "https://localhost:8080/"
        },
        "id": "eRwqBAzCNX80",
        "outputId": "bb59bebe-e5b5-40ee-f251-0917bd02e8fd"
      },
      "execution_count": null,
      "outputs": [
        {
          "output_type": "stream",
          "name": "stdout",
          "text": [
            "{'name': 'Ellie', 'qualification': 'PGD', 'batch': 'Batch X', 'institute': 'NED'}\n",
            "<class 'dict'>\n",
            "{'name': 'EJ', 'DEG': 'MBA', 'YEAR': 'Batch 14', 'INST': 'IoBM', 'YR': 25, 'CLS': '9am', 'SEM': 40000, 'FIN': 300000}\n",
            "Ellie\n",
            "40000\n"
          ]
        }
      ]
    },
    {
      "cell_type": "code",
      "source": [
        "# prompt: generate simple code of nested dictionary using above code\n",
        "\n",
        "nested_dict = {\n",
        "    'person1': {\n",
        "        'name': 'Alice',\n",
        "        'age': 30,\n",
        "        'city': 'New York'\n",
        "    },\n",
        "    'person2': {\n",
        "        'name': 'Bob',\n",
        "        'age': 25,\n",
        "        'city': 'Los Angeles'\n",
        "    }\n",
        "}\n",
        "\n",
        "print(nested_dict)\n",
        "print(nested_dict['person1']['name']) # Accessing nested values"
      ],
      "metadata": {
        "colab": {
          "base_uri": "https://localhost:8080/"
        },
        "id": "8c8Cvg_JPuXL",
        "outputId": "12419fb0-ce17-440b-b0bf-66e676250729"
      },
      "execution_count": null,
      "outputs": [
        {
          "output_type": "stream",
          "name": "stdout",
          "text": [
            "{'person1': {'name': 'Alice', 'age': 30, 'city': 'New York'}, 'person2': {'name': 'Bob', 'age': 25, 'city': 'Los Angeles'}}\n",
            "Alice\n"
          ]
        }
      ]
    },
    {
      "cell_type": "code",
      "source": [
        "# prompt: list of methods for dictionary\n",
        "\n",
        "#print(dir(dict))\n",
        "\n",
        "#'clear', 'copy', 'fromkeys', 'get', 'items', 'keys', 'pop', 'popitem', 'setdefault', 'update', 'values'\n",
        "\n",
        "data2 = data1 #same object, shallow copy, nick name\n",
        "\n",
        "print(data2)\n",
        "\n",
        "data1 = {\n",
        "    \"name\":\"Ellie\",\n",
        "    \"qualification\":\"PGD\",\n",
        "    \"batch\":\"Batch X\",\n",
        "    \"institute\":\"NED\"\n",
        "    }\n",
        "print(data1)\n",
        "print(type(data1))\n",
        "\n",
        "data2 = {\"name\":\"EJ\",\n",
        "\"DEG\":\"MBA\",\n",
        "         \"YEAR\":\"Batch 14\",\n",
        "         \"INST\":\"IoBM\",\n",
        "         \"YR\":25,\n",
        "         \"CLS\":\"9am\",\n",
        "         \"SEM\":40000,\n",
        "         \"FIN\":300000}\n",
        "print(data2)\n",
        "\n",
        "\n",
        "#print(data1.copy(data2))\n",
        "\n",
        "print(data1)\n"
      ],
      "metadata": {
        "colab": {
          "base_uri": "https://localhost:8080/"
        },
        "id": "48FvOTH3P9Bt",
        "outputId": "f746303e-3b96-4d91-b19a-293162c6a26a"
      },
      "execution_count": null,
      "outputs": [
        {
          "output_type": "stream",
          "name": "stdout",
          "text": [
            "{'name': 'Ellie', 'qualification': 'PGD', 'batch': 'Batch X', 'institute': 'NED'}\n",
            "{'name': 'Ellie', 'qualification': 'PGD', 'batch': 'Batch X', 'institute': 'NED'}\n",
            "<class 'dict'>\n",
            "{'name': 'EJ', 'DEG': 'MBA', 'YEAR': 'Batch 14', 'INST': 'IoBM', 'YR': 25, 'CLS': '9am', 'SEM': 40000, 'FIN': 300000}\n",
            "{'name': 'Ellie', 'qualification': 'PGD', 'batch': 'Batch X', 'institute': 'NED'}\n"
          ]
        }
      ]
    },
    {
      "cell_type": "code",
      "source": [
        "#data2 = data1 #same object, shallow copy, nick name\n",
        "\n",
        "print(data2)\n",
        "\n",
        "data1 = {\n",
        "    \"name\":\"Ellie\",\n",
        "    \"qualification\":\"PGD\",\n",
        "    \"batch\":\"Batch X\",\n",
        "    \"institute\":\"NED\"\n",
        "    }\n",
        "print(data1)\n",
        "print(type(data1))\n",
        "\n",
        "data2 = {\"name\":\"EJ\",\n",
        "\"DEG\":\"MBA\",\n",
        "         \"YEAR\":\"Batch 14\",\n",
        "         \"INST\":\"IoBM\",\n",
        "         \"YR\":25,\n",
        "         \"CLS\":\"9am\",\n",
        "         \"SEM\":40000,\n",
        "         \"FIN\":300000}\n",
        "print(data2)\n",
        "data2=data1.copy()\n",
        "\n",
        "print(data1)\n",
        "#data1.fromkeys()\n",
        "\n",
        "#print(data1)"
      ],
      "metadata": {
        "colab": {
          "base_uri": "https://localhost:8080/"
        },
        "id": "bP38dMm0Rqao",
        "outputId": "bc2e04d9-c161-4d19-abbf-00e66d76dd49"
      },
      "execution_count": null,
      "outputs": [
        {
          "output_type": "stream",
          "name": "stdout",
          "text": [
            "{'name': 'EJ', 'DEG': 'MBA', 'YEAR': 'Batch 14', 'INST': 'IoBM', 'YR': 25, 'CLS': '9am', 'SEM': 40000, 'FIN': 300000}\n",
            "{'name': 'Ellie', 'qualification': 'PGD', 'batch': 'Batch X', 'institute': 'NED'}\n",
            "<class 'dict'>\n",
            "{'name': 'EJ', 'DEG': 'MBA', 'YEAR': 'Batch 14', 'INST': 'IoBM', 'YR': 25, 'CLS': '9am', 'SEM': 40000, 'FIN': 300000}\n",
            "{'name': 'Ellie', 'qualification': 'PGD', 'batch': 'Batch X', 'institute': 'NED'}\n"
          ]
        }
      ]
    },
    {
      "cell_type": "code",
      "source": [
        "data2 = {\"name\":\"EJ\",\n",
        "\"DEG\":\"MBA\",\n",
        "         \"YEAR\":\"Batch 14\",\n",
        "         \"INST\":\"IoBM\",\n",
        "         \"YR\":25,\n",
        "         \"CLS\":\"9am\",\n",
        "         \"SEM\":40000,\n",
        "         \"FIN\":300000}\n",
        "print(data2)\n",
        "\n",
        "print(data2.items())\n",
        "print(data2.values())\n",
        "print(data2.keys())"
      ],
      "metadata": {
        "colab": {
          "base_uri": "https://localhost:8080/"
        },
        "id": "wByfsbCMS-Fw",
        "outputId": "c0dfd257-0b19-436e-ac87-8c440aa25263"
      },
      "execution_count": null,
      "outputs": [
        {
          "output_type": "stream",
          "name": "stdout",
          "text": [
            "{'name': 'EJ', 'DEG': 'MBA', 'YEAR': 'Batch 14', 'INST': 'IoBM', 'YR': 25, 'CLS': '9am', 'SEM': 40000, 'FIN': 300000}\n",
            "dict_items([('name', 'EJ'), ('DEG', 'MBA'), ('YEAR', 'Batch 14'), ('INST', 'IoBM'), ('YR', 25), ('CLS', '9am'), ('SEM', 40000), ('FIN', 300000)])\n",
            "dict_values(['EJ', 'MBA', 'Batch 14', 'IoBM', 25, '9am', 40000, 300000])\n",
            "dict_keys(['name', 'DEG', 'YEAR', 'INST', 'YR', 'CLS', 'SEM', 'FIN'])\n"
          ]
        }
      ]
    },
    {
      "cell_type": "code",
      "source": [
        "data2 = {\"name\":\"EJ\",\n",
        "\"DEG\":\"MBA\",\n",
        "         \"YEAR\":\"Batch 14\",\n",
        "         \"INST\":\"IoBM\",\n",
        "         \"YR\":25,\n",
        "         \"CLS\":\"9am\",\n",
        "         \"SEM\":40000,\n",
        "         \"FIN\":300000}\n",
        "print(data2)\n",
        "\n",
        "del_data = data2.pop('YR')\n",
        "print(del_data)\n",
        "print(data2)\n",
        "#in memory operation, change and deletes physical data (actual delete)\n",
        "\n"
      ],
      "metadata": {
        "colab": {
          "base_uri": "https://localhost:8080/"
        },
        "id": "-_36PWBwUQhT",
        "outputId": "8f20519e-5fc6-4eae-f924-a07df1547888"
      },
      "execution_count": null,
      "outputs": [
        {
          "output_type": "stream",
          "name": "stdout",
          "text": [
            "{'name': 'EJ', 'DEG': 'MBA', 'YEAR': 'Batch 14', 'INST': 'IoBM', 'YR': 25, 'CLS': '9am', 'SEM': 40000, 'FIN': 300000}\n",
            "25\n",
            "{'name': 'EJ', 'DEG': 'MBA', 'YEAR': 'Batch 14', 'INST': 'IoBM', 'CLS': '9am', 'SEM': 40000, 'FIN': 300000}\n"
          ]
        }
      ]
    },
    {
      "cell_type": "code",
      "source": [
        "data2 = {\"name\":\"EJ\",\n",
        "\"DEG\":\"MBA\",\n",
        "         \"YEAR\":\"Batch 14\",\n",
        "         \"INST\":\"IoBM\",\n",
        "         \"YR\":25,\n",
        "         \"CLS\":\"9am\",\n",
        "         \"SEM\":40000,\n",
        "         \"FIN\":300000}\n",
        "print(data2)\n",
        "\n",
        "del_data = data2.popitem() # removes last information - LIFO method No key is passed as in empty brackets\n",
        "print(del_data)\n",
        "print(data2)\n"
      ],
      "metadata": {
        "colab": {
          "base_uri": "https://localhost:8080/"
        },
        "id": "Rj2zoHqQUkwA",
        "outputId": "c26dd662-ac14-4f54-be6d-96eb83972e3b"
      },
      "execution_count": null,
      "outputs": [
        {
          "output_type": "stream",
          "name": "stdout",
          "text": [
            "{'name': 'EJ', 'DEG': 'MBA', 'YEAR': 'Batch 14', 'INST': 'IoBM', 'YR': 25, 'CLS': '9am', 'SEM': 40000, 'FIN': 300000}\n",
            "('FIN', 300000)\n",
            "{'name': 'EJ', 'DEG': 'MBA', 'YEAR': 'Batch 14', 'INST': 'IoBM', 'YR': 25, 'CLS': '9am', 'SEM': 40000}\n"
          ]
        }
      ]
    },
    {
      "cell_type": "code",
      "source": [
        "# set default\n",
        "data2 = {\"name\":\"EJ\",\n",
        "\"DEG\":\"MBA\",\n",
        "         \"YEAR\":\"Batch 14\",\n",
        "         \"INST\":\"IoBM\",\n",
        "         \"YR\":25,\n",
        "         \"CLS\":\"9am\",\n",
        "         \"SEM\":40000,\n",
        "         \"FIN\":300000}\n",
        "print(data2)\n",
        "\n",
        "print(data2.setdefault('contact',\"NA\"))\n",
        "print(data2)\n",
        "\n",
        "print(data2.get(\"contact\"))\n",
        "\n"
      ],
      "metadata": {
        "colab": {
          "base_uri": "https://localhost:8080/"
        },
        "id": "kWEh2M5cU7r_",
        "outputId": "1527e506-5f8a-4391-80d3-4a4cd7a760db"
      },
      "execution_count": null,
      "outputs": [
        {
          "output_type": "stream",
          "name": "stdout",
          "text": [
            "{'name': 'EJ', 'DEG': 'MBA', 'YEAR': 'Batch 14', 'INST': 'IoBM', 'YR': 25, 'CLS': '9am', 'SEM': 40000, 'FIN': 300000}\n",
            "NA\n",
            "{'name': 'EJ', 'DEG': 'MBA', 'YEAR': 'Batch 14', 'INST': 'IoBM', 'YR': 25, 'CLS': '9am', 'SEM': 40000, 'FIN': 300000, 'contact': 'NA'}\n",
            "NA\n"
          ]
        }
      ]
    },
    {
      "cell_type": "code",
      "source": [
        "\n",
        "data1 = {\n",
        "    \"name\":\"Ellie\",\n",
        "    \"qualification\":\"PGD\",\n",
        "    \"batch\":\"Batch X\",\n",
        "    \"institute\":\"NED\"\n",
        "    }\n",
        "print(data1)\n",
        "\n",
        "data2 = {\"name\":\"EJ\",\n",
        "\"DEG\":\"MBA\",\n",
        "         \"YEAR\":\"Batch 14\",\n",
        "         \"INST\":\"IoBM\",\n",
        "         \"YR\":25,\n",
        "         \"CLS\":\"9am\",\n",
        "         \"SEM\":40000,\n",
        "         \"FIN\":300000}\n",
        "print(data2)\n",
        "\n",
        "\n",
        "import pandas as pd\n",
        "df = pd.DataFrame([data1,data2])\n",
        "df\n"
      ],
      "metadata": {
        "colab": {
          "base_uri": "https://localhost:8080/",
          "height": 160
        },
        "id": "OcOETqDeWgpz",
        "outputId": "b905b49f-8401-4397-a584-141a09122392"
      },
      "execution_count": null,
      "outputs": [
        {
          "output_type": "stream",
          "name": "stdout",
          "text": [
            "{'name': 'Ellie', 'qualification': 'PGD', 'batch': 'Batch X', 'institute': 'NED'}\n",
            "{'name': 'EJ', 'DEG': 'MBA', 'YEAR': 'Batch 14', 'INST': 'IoBM', 'YR': 25, 'CLS': '9am', 'SEM': 40000, 'FIN': 300000}\n"
          ]
        },
        {
          "output_type": "execute_result",
          "data": {
            "text/plain": [
              "    name qualification    batch institute  DEG      YEAR  INST    YR  CLS  \\\n",
              "0  Ellie           PGD  Batch X       NED  NaN       NaN   NaN   NaN  NaN   \n",
              "1     EJ           NaN      NaN       NaN  MBA  Batch 14  IoBM  25.0  9am   \n",
              "\n",
              "       SEM       FIN  \n",
              "0      NaN       NaN  \n",
              "1  40000.0  300000.0  "
            ],
            "text/html": [
              "\n",
              "  <div id=\"df-a27627b5-5248-4e58-b379-683facf8b3ec\" class=\"colab-df-container\">\n",
              "    <div>\n",
              "<style scoped>\n",
              "    .dataframe tbody tr th:only-of-type {\n",
              "        vertical-align: middle;\n",
              "    }\n",
              "\n",
              "    .dataframe tbody tr th {\n",
              "        vertical-align: top;\n",
              "    }\n",
              "\n",
              "    .dataframe thead th {\n",
              "        text-align: right;\n",
              "    }\n",
              "</style>\n",
              "<table border=\"1\" class=\"dataframe\">\n",
              "  <thead>\n",
              "    <tr style=\"text-align: right;\">\n",
              "      <th></th>\n",
              "      <th>name</th>\n",
              "      <th>qualification</th>\n",
              "      <th>batch</th>\n",
              "      <th>institute</th>\n",
              "      <th>DEG</th>\n",
              "      <th>YEAR</th>\n",
              "      <th>INST</th>\n",
              "      <th>YR</th>\n",
              "      <th>CLS</th>\n",
              "      <th>SEM</th>\n",
              "      <th>FIN</th>\n",
              "    </tr>\n",
              "  </thead>\n",
              "  <tbody>\n",
              "    <tr>\n",
              "      <th>0</th>\n",
              "      <td>Ellie</td>\n",
              "      <td>PGD</td>\n",
              "      <td>Batch X</td>\n",
              "      <td>NED</td>\n",
              "      <td>NaN</td>\n",
              "      <td>NaN</td>\n",
              "      <td>NaN</td>\n",
              "      <td>NaN</td>\n",
              "      <td>NaN</td>\n",
              "      <td>NaN</td>\n",
              "      <td>NaN</td>\n",
              "    </tr>\n",
              "    <tr>\n",
              "      <th>1</th>\n",
              "      <td>EJ</td>\n",
              "      <td>NaN</td>\n",
              "      <td>NaN</td>\n",
              "      <td>NaN</td>\n",
              "      <td>MBA</td>\n",
              "      <td>Batch 14</td>\n",
              "      <td>IoBM</td>\n",
              "      <td>25.0</td>\n",
              "      <td>9am</td>\n",
              "      <td>40000.0</td>\n",
              "      <td>300000.0</td>\n",
              "    </tr>\n",
              "  </tbody>\n",
              "</table>\n",
              "</div>\n",
              "    <div class=\"colab-df-buttons\">\n",
              "\n",
              "  <div class=\"colab-df-container\">\n",
              "    <button class=\"colab-df-convert\" onclick=\"convertToInteractive('df-a27627b5-5248-4e58-b379-683facf8b3ec')\"\n",
              "            title=\"Convert this dataframe to an interactive table.\"\n",
              "            style=\"display:none;\">\n",
              "\n",
              "  <svg xmlns=\"http://www.w3.org/2000/svg\" height=\"24px\" viewBox=\"0 -960 960 960\">\n",
              "    <path d=\"M120-120v-720h720v720H120Zm60-500h600v-160H180v160Zm220 220h160v-160H400v160Zm0 220h160v-160H400v160ZM180-400h160v-160H180v160Zm440 0h160v-160H620v160ZM180-180h160v-160H180v160Zm440 0h160v-160H620v160Z\"/>\n",
              "  </svg>\n",
              "    </button>\n",
              "\n",
              "  <style>\n",
              "    .colab-df-container {\n",
              "      display:flex;\n",
              "      gap: 12px;\n",
              "    }\n",
              "\n",
              "    .colab-df-convert {\n",
              "      background-color: #E8F0FE;\n",
              "      border: none;\n",
              "      border-radius: 50%;\n",
              "      cursor: pointer;\n",
              "      display: none;\n",
              "      fill: #1967D2;\n",
              "      height: 32px;\n",
              "      padding: 0 0 0 0;\n",
              "      width: 32px;\n",
              "    }\n",
              "\n",
              "    .colab-df-convert:hover {\n",
              "      background-color: #E2EBFA;\n",
              "      box-shadow: 0px 1px 2px rgba(60, 64, 67, 0.3), 0px 1px 3px 1px rgba(60, 64, 67, 0.15);\n",
              "      fill: #174EA6;\n",
              "    }\n",
              "\n",
              "    .colab-df-buttons div {\n",
              "      margin-bottom: 4px;\n",
              "    }\n",
              "\n",
              "    [theme=dark] .colab-df-convert {\n",
              "      background-color: #3B4455;\n",
              "      fill: #D2E3FC;\n",
              "    }\n",
              "\n",
              "    [theme=dark] .colab-df-convert:hover {\n",
              "      background-color: #434B5C;\n",
              "      box-shadow: 0px 1px 3px 1px rgba(0, 0, 0, 0.15);\n",
              "      filter: drop-shadow(0px 1px 2px rgba(0, 0, 0, 0.3));\n",
              "      fill: #FFFFFF;\n",
              "    }\n",
              "  </style>\n",
              "\n",
              "    <script>\n",
              "      const buttonEl =\n",
              "        document.querySelector('#df-a27627b5-5248-4e58-b379-683facf8b3ec button.colab-df-convert');\n",
              "      buttonEl.style.display =\n",
              "        google.colab.kernel.accessAllowed ? 'block' : 'none';\n",
              "\n",
              "      async function convertToInteractive(key) {\n",
              "        const element = document.querySelector('#df-a27627b5-5248-4e58-b379-683facf8b3ec');\n",
              "        const dataTable =\n",
              "          await google.colab.kernel.invokeFunction('convertToInteractive',\n",
              "                                                    [key], {});\n",
              "        if (!dataTable) return;\n",
              "\n",
              "        const docLinkHtml = 'Like what you see? Visit the ' +\n",
              "          '<a target=\"_blank\" href=https://colab.research.google.com/notebooks/data_table.ipynb>data table notebook</a>'\n",
              "          + ' to learn more about interactive tables.';\n",
              "        element.innerHTML = '';\n",
              "        dataTable['output_type'] = 'display_data';\n",
              "        await google.colab.output.renderOutput(dataTable, element);\n",
              "        const docLink = document.createElement('div');\n",
              "        docLink.innerHTML = docLinkHtml;\n",
              "        element.appendChild(docLink);\n",
              "      }\n",
              "    </script>\n",
              "  </div>\n",
              "\n",
              "\n",
              "<div id=\"df-51db3ce0-1257-4b13-932a-b3615dc0d308\">\n",
              "  <button class=\"colab-df-quickchart\" onclick=\"quickchart('df-51db3ce0-1257-4b13-932a-b3615dc0d308')\"\n",
              "            title=\"Suggest charts\"\n",
              "            style=\"display:none;\">\n",
              "\n",
              "<svg xmlns=\"http://www.w3.org/2000/svg\" height=\"24px\"viewBox=\"0 0 24 24\"\n",
              "     width=\"24px\">\n",
              "    <g>\n",
              "        <path d=\"M19 3H5c-1.1 0-2 .9-2 2v14c0 1.1.9 2 2 2h14c1.1 0 2-.9 2-2V5c0-1.1-.9-2-2-2zM9 17H7v-7h2v7zm4 0h-2V7h2v10zm4 0h-2v-4h2v4z\"/>\n",
              "    </g>\n",
              "</svg>\n",
              "  </button>\n",
              "\n",
              "<style>\n",
              "  .colab-df-quickchart {\n",
              "      --bg-color: #E8F0FE;\n",
              "      --fill-color: #1967D2;\n",
              "      --hover-bg-color: #E2EBFA;\n",
              "      --hover-fill-color: #174EA6;\n",
              "      --disabled-fill-color: #AAA;\n",
              "      --disabled-bg-color: #DDD;\n",
              "  }\n",
              "\n",
              "  [theme=dark] .colab-df-quickchart {\n",
              "      --bg-color: #3B4455;\n",
              "      --fill-color: #D2E3FC;\n",
              "      --hover-bg-color: #434B5C;\n",
              "      --hover-fill-color: #FFFFFF;\n",
              "      --disabled-bg-color: #3B4455;\n",
              "      --disabled-fill-color: #666;\n",
              "  }\n",
              "\n",
              "  .colab-df-quickchart {\n",
              "    background-color: var(--bg-color);\n",
              "    border: none;\n",
              "    border-radius: 50%;\n",
              "    cursor: pointer;\n",
              "    display: none;\n",
              "    fill: var(--fill-color);\n",
              "    height: 32px;\n",
              "    padding: 0;\n",
              "    width: 32px;\n",
              "  }\n",
              "\n",
              "  .colab-df-quickchart:hover {\n",
              "    background-color: var(--hover-bg-color);\n",
              "    box-shadow: 0 1px 2px rgba(60, 64, 67, 0.3), 0 1px 3px 1px rgba(60, 64, 67, 0.15);\n",
              "    fill: var(--button-hover-fill-color);\n",
              "  }\n",
              "\n",
              "  .colab-df-quickchart-complete:disabled,\n",
              "  .colab-df-quickchart-complete:disabled:hover {\n",
              "    background-color: var(--disabled-bg-color);\n",
              "    fill: var(--disabled-fill-color);\n",
              "    box-shadow: none;\n",
              "  }\n",
              "\n",
              "  .colab-df-spinner {\n",
              "    border: 2px solid var(--fill-color);\n",
              "    border-color: transparent;\n",
              "    border-bottom-color: var(--fill-color);\n",
              "    animation:\n",
              "      spin 1s steps(1) infinite;\n",
              "  }\n",
              "\n",
              "  @keyframes spin {\n",
              "    0% {\n",
              "      border-color: transparent;\n",
              "      border-bottom-color: var(--fill-color);\n",
              "      border-left-color: var(--fill-color);\n",
              "    }\n",
              "    20% {\n",
              "      border-color: transparent;\n",
              "      border-left-color: var(--fill-color);\n",
              "      border-top-color: var(--fill-color);\n",
              "    }\n",
              "    30% {\n",
              "      border-color: transparent;\n",
              "      border-left-color: var(--fill-color);\n",
              "      border-top-color: var(--fill-color);\n",
              "      border-right-color: var(--fill-color);\n",
              "    }\n",
              "    40% {\n",
              "      border-color: transparent;\n",
              "      border-right-color: var(--fill-color);\n",
              "      border-top-color: var(--fill-color);\n",
              "    }\n",
              "    60% {\n",
              "      border-color: transparent;\n",
              "      border-right-color: var(--fill-color);\n",
              "    }\n",
              "    80% {\n",
              "      border-color: transparent;\n",
              "      border-right-color: var(--fill-color);\n",
              "      border-bottom-color: var(--fill-color);\n",
              "    }\n",
              "    90% {\n",
              "      border-color: transparent;\n",
              "      border-bottom-color: var(--fill-color);\n",
              "    }\n",
              "  }\n",
              "</style>\n",
              "\n",
              "  <script>\n",
              "    async function quickchart(key) {\n",
              "      const quickchartButtonEl =\n",
              "        document.querySelector('#' + key + ' button');\n",
              "      quickchartButtonEl.disabled = true;  // To prevent multiple clicks.\n",
              "      quickchartButtonEl.classList.add('colab-df-spinner');\n",
              "      try {\n",
              "        const charts = await google.colab.kernel.invokeFunction(\n",
              "            'suggestCharts', [key], {});\n",
              "      } catch (error) {\n",
              "        console.error('Error during call to suggestCharts:', error);\n",
              "      }\n",
              "      quickchartButtonEl.classList.remove('colab-df-spinner');\n",
              "      quickchartButtonEl.classList.add('colab-df-quickchart-complete');\n",
              "    }\n",
              "    (() => {\n",
              "      let quickchartButtonEl =\n",
              "        document.querySelector('#df-51db3ce0-1257-4b13-932a-b3615dc0d308 button');\n",
              "      quickchartButtonEl.style.display =\n",
              "        google.colab.kernel.accessAllowed ? 'block' : 'none';\n",
              "    })();\n",
              "  </script>\n",
              "</div>\n",
              "\n",
              "  <div id=\"id_06e5f051-ce4f-42d6-9be9-a3c78e52b755\">\n",
              "    <style>\n",
              "      .colab-df-generate {\n",
              "        background-color: #E8F0FE;\n",
              "        border: none;\n",
              "        border-radius: 50%;\n",
              "        cursor: pointer;\n",
              "        display: none;\n",
              "        fill: #1967D2;\n",
              "        height: 32px;\n",
              "        padding: 0 0 0 0;\n",
              "        width: 32px;\n",
              "      }\n",
              "\n",
              "      .colab-df-generate:hover {\n",
              "        background-color: #E2EBFA;\n",
              "        box-shadow: 0px 1px 2px rgba(60, 64, 67, 0.3), 0px 1px 3px 1px rgba(60, 64, 67, 0.15);\n",
              "        fill: #174EA6;\n",
              "      }\n",
              "\n",
              "      [theme=dark] .colab-df-generate {\n",
              "        background-color: #3B4455;\n",
              "        fill: #D2E3FC;\n",
              "      }\n",
              "\n",
              "      [theme=dark] .colab-df-generate:hover {\n",
              "        background-color: #434B5C;\n",
              "        box-shadow: 0px 1px 3px 1px rgba(0, 0, 0, 0.15);\n",
              "        filter: drop-shadow(0px 1px 2px rgba(0, 0, 0, 0.3));\n",
              "        fill: #FFFFFF;\n",
              "      }\n",
              "    </style>\n",
              "    <button class=\"colab-df-generate\" onclick=\"generateWithVariable('df')\"\n",
              "            title=\"Generate code using this dataframe.\"\n",
              "            style=\"display:none;\">\n",
              "\n",
              "  <svg xmlns=\"http://www.w3.org/2000/svg\" height=\"24px\"viewBox=\"0 0 24 24\"\n",
              "       width=\"24px\">\n",
              "    <path d=\"M7,19H8.4L18.45,9,17,7.55,7,17.6ZM5,21V16.75L18.45,3.32a2,2,0,0,1,2.83,0l1.4,1.43a1.91,1.91,0,0,1,.58,1.4,1.91,1.91,0,0,1-.58,1.4L9.25,21ZM18.45,9,17,7.55Zm-12,3A5.31,5.31,0,0,0,4.9,8.1,5.31,5.31,0,0,0,1,6.5,5.31,5.31,0,0,0,4.9,4.9,5.31,5.31,0,0,0,6.5,1,5.31,5.31,0,0,0,8.1,4.9,5.31,5.31,0,0,0,12,6.5,5.46,5.46,0,0,0,6.5,12Z\"/>\n",
              "  </svg>\n",
              "    </button>\n",
              "    <script>\n",
              "      (() => {\n",
              "      const buttonEl =\n",
              "        document.querySelector('#id_06e5f051-ce4f-42d6-9be9-a3c78e52b755 button.colab-df-generate');\n",
              "      buttonEl.style.display =\n",
              "        google.colab.kernel.accessAllowed ? 'block' : 'none';\n",
              "\n",
              "      buttonEl.onclick = () => {\n",
              "        google.colab.notebook.generateWithVariable('df');\n",
              "      }\n",
              "      })();\n",
              "    </script>\n",
              "  </div>\n",
              "\n",
              "    </div>\n",
              "  </div>\n"
            ],
            "application/vnd.google.colaboratory.intrinsic+json": {
              "type": "dataframe",
              "variable_name": "df",
              "summary": "{\n  \"name\": \"df\",\n  \"rows\": 2,\n  \"fields\": [\n    {\n      \"column\": \"name\",\n      \"properties\": {\n        \"dtype\": \"string\",\n        \"num_unique_values\": 2,\n        \"samples\": [\n          \"EJ\",\n          \"Ellie\"\n        ],\n        \"semantic_type\": \"\",\n        \"description\": \"\"\n      }\n    },\n    {\n      \"column\": \"qualification\",\n      \"properties\": {\n        \"dtype\": \"string\",\n        \"num_unique_values\": 1,\n        \"samples\": [\n          \"PGD\"\n        ],\n        \"semantic_type\": \"\",\n        \"description\": \"\"\n      }\n    },\n    {\n      \"column\": \"batch\",\n      \"properties\": {\n        \"dtype\": \"string\",\n        \"num_unique_values\": 1,\n        \"samples\": [\n          \"Batch X\"\n        ],\n        \"semantic_type\": \"\",\n        \"description\": \"\"\n      }\n    },\n    {\n      \"column\": \"institute\",\n      \"properties\": {\n        \"dtype\": \"string\",\n        \"num_unique_values\": 1,\n        \"samples\": [\n          \"NED\"\n        ],\n        \"semantic_type\": \"\",\n        \"description\": \"\"\n      }\n    },\n    {\n      \"column\": \"DEG\",\n      \"properties\": {\n        \"dtype\": \"string\",\n        \"num_unique_values\": 1,\n        \"samples\": [\n          \"MBA\"\n        ],\n        \"semantic_type\": \"\",\n        \"description\": \"\"\n      }\n    },\n    {\n      \"column\": \"YEAR\",\n      \"properties\": {\n        \"dtype\": \"string\",\n        \"num_unique_values\": 1,\n        \"samples\": [\n          \"Batch 14\"\n        ],\n        \"semantic_type\": \"\",\n        \"description\": \"\"\n      }\n    },\n    {\n      \"column\": \"INST\",\n      \"properties\": {\n        \"dtype\": \"string\",\n        \"num_unique_values\": 1,\n        \"samples\": [\n          \"IoBM\"\n        ],\n        \"semantic_type\": \"\",\n        \"description\": \"\"\n      }\n    },\n    {\n      \"column\": \"YR\",\n      \"properties\": {\n        \"dtype\": \"number\",\n        \"std\": null,\n        \"min\": 25.0,\n        \"max\": 25.0,\n        \"num_unique_values\": 1,\n        \"samples\": [\n          25.0\n        ],\n        \"semantic_type\": \"\",\n        \"description\": \"\"\n      }\n    },\n    {\n      \"column\": \"CLS\",\n      \"properties\": {\n        \"dtype\": \"string\",\n        \"num_unique_values\": 1,\n        \"samples\": [\n          \"9am\"\n        ],\n        \"semantic_type\": \"\",\n        \"description\": \"\"\n      }\n    },\n    {\n      \"column\": \"SEM\",\n      \"properties\": {\n        \"dtype\": \"number\",\n        \"std\": null,\n        \"min\": 40000.0,\n        \"max\": 40000.0,\n        \"num_unique_values\": 1,\n        \"samples\": [\n          40000.0\n        ],\n        \"semantic_type\": \"\",\n        \"description\": \"\"\n      }\n    },\n    {\n      \"column\": \"FIN\",\n      \"properties\": {\n        \"dtype\": \"number\",\n        \"std\": null,\n        \"min\": 300000.0,\n        \"max\": 300000.0,\n        \"num_unique_values\": 1,\n        \"samples\": [\n          300000.0\n        ],\n        \"semantic_type\": \"\",\n        \"description\": \"\"\n      }\n    }\n  ]\n}"
            }
          },
          "metadata": {},
          "execution_count": 91
        }
      ]
    },
    {
      "cell_type": "code",
      "source": [
        "# prompt: write code to generate a pakistani national identity card\n",
        "\n",
        "import pandas as pd\n",
        "import random\n",
        "\n",
        "def generate_cnic():\n",
        "    # Generate a random 13-digit CNIC number\n",
        "    cnic = ''.join(random.choices('0123456789', k=13))\n",
        "    return cnic\n",
        "\n",
        "\n",
        "\n",
        "\n",
        "cnic_number = generate_cnic()\n",
        "\n",
        "\n",
        "person  = {\"Name\":\"E I J\",\n",
        "           \"Fname\":\"I J\",\n",
        "         \"TYPE\": \"F\",\n",
        "         \"CTRY\":\"Pakistan\",\n",
        "         \"CNIC\": cnic_number,\n",
        "          \"DOB\": \"20.08.2001\",\n",
        "         \"YR_ISS\":\"20.08.2021\",\n",
        "         \"YR_EXP\": \"20.08.2031\",\n",
        "           \"ADR\":\"House 101, DHA 101, Karachi 10001\"\n",
        "           }\n",
        "\n",
        "print(person)\n",
        "\n"
      ],
      "metadata": {
        "colab": {
          "base_uri": "https://localhost:8080/"
        },
        "id": "AgfZvjd1_pOa",
        "outputId": "fc289ff5-de93-44a3-83b2-476a825d8d38"
      },
      "execution_count": 7,
      "outputs": [
        {
          "output_type": "stream",
          "name": "stdout",
          "text": [
            "{'Name': 'E I J', 'Fname': 'I J', 'TYPE': 'F', 'CTRY': 'Pakistan', 'CNIC': '0865306105693', 'DOB': '20.08.2001', 'YR_ISS': '20.08.2021', 'YR_EXP': '20.08.2031', 'ADR': 'House 101, DHA 101, Karachi 10001'}\n"
          ]
        }
      ]
    }
  ]
}