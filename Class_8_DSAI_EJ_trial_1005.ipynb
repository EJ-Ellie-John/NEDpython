{
  "nbformat": 4,
  "nbformat_minor": 0,
  "metadata": {
    "colab": {
      "provenance": [],
      "authorship_tag": "ABX9TyPVXueMYsu3ZpAcagC2pCaR",
      "include_colab_link": true
    },
    "kernelspec": {
      "name": "python3",
      "display_name": "Python 3"
    },
    "language_info": {
      "name": "python"
    }
  },
  "cells": [
    {
      "cell_type": "markdown",
      "metadata": {
        "id": "view-in-github",
        "colab_type": "text"
      },
      "source": [
        "<a href=\"https://colab.research.google.com/github/EJ-Ellie-John/NEDpython/blob/main/Class_8_DSAI_EJ_trial_1005.ipynb\" target=\"_parent\"><img src=\"https://colab.research.google.com/assets/colab-badge.svg\" alt=\"Open In Colab\"/></a>"
      ]
    },
    {
      "cell_type": "code",
      "execution_count": null,
      "metadata": {
        "colab": {
          "base_uri": "https://localhost:8080/"
        },
        "id": "4lOwZPObcegY",
        "outputId": "54ec8a87-f74d-4c26-a670-ce2065651229"
      },
      "outputs": [
        {
          "output_type": "stream",
          "name": "stdout",
          "text": [
            "0\n",
            "10\n",
            "-5\n",
            "1\n",
            "11\n",
            "-4\n",
            "2\n",
            "12\n",
            "-3\n",
            "3\n",
            "13\n",
            "-2\n",
            "4\n",
            "14\n",
            "-1\n",
            "5\n",
            "15\n",
            "0\n",
            "6\n",
            "16\n",
            "1\n",
            "7\n",
            "17\n",
            "2\n",
            "8\n",
            "18\n",
            "3\n",
            "9\n",
            "19\n",
            "4\n",
            "last-value:  9\n"
          ]
        }
      ],
      "source": [
        "#loop\n",
        "Number_range = (0,9)\n",
        "\n",
        "for l in range(0,10):\n",
        "    print(l)\n",
        "    print(l+10)\n",
        "    print(l-5)\n",
        "print(\"last-value: \",l)"
      ]
    },
    {
      "cell_type": "code",
      "source": [
        "#list\n",
        "\n",
        "Countries = [\"Libya\",\"Malta\",\"Italy\"]\n",
        "for cntry in Countries:\n",
        "    print(cntry.upper())\n",
        "\n",
        "print(cntry.update(0,\"PK\"))"
      ],
      "metadata": {
        "colab": {
          "base_uri": "https://localhost:8080/",
          "height": 315
        },
        "id": "Tf65FSFHeZYQ",
        "outputId": "fe77a90d-707d-480b-d19a-fb6a7effdc55"
      },
      "execution_count": null,
      "outputs": [
        {
          "output_type": "stream",
          "name": "stdout",
          "text": [
            "LIBYA\n",
            "MALTA\n",
            "ITALY\n"
          ]
        },
        {
          "output_type": "error",
          "ename": "AttributeError",
          "evalue": "'str' object has no attribute 'update'",
          "traceback": [
            "\u001b[0;31m---------------------------------------------------------------------------\u001b[0m",
            "\u001b[0;31mAttributeError\u001b[0m                            Traceback (most recent call last)",
            "\u001b[0;32m<ipython-input-14-cfe792b59149>\u001b[0m in \u001b[0;36m<cell line: 0>\u001b[0;34m()\u001b[0m\n\u001b[1;32m      5\u001b[0m     \u001b[0mprint\u001b[0m\u001b[0;34m(\u001b[0m\u001b[0mcntry\u001b[0m\u001b[0;34m.\u001b[0m\u001b[0mupper\u001b[0m\u001b[0;34m(\u001b[0m\u001b[0;34m)\u001b[0m\u001b[0;34m)\u001b[0m\u001b[0;34m\u001b[0m\u001b[0;34m\u001b[0m\u001b[0m\n\u001b[1;32m      6\u001b[0m \u001b[0;34m\u001b[0m\u001b[0m\n\u001b[0;32m----> 7\u001b[0;31m \u001b[0mprint\u001b[0m\u001b[0;34m(\u001b[0m\u001b[0mcntry\u001b[0m\u001b[0;34m.\u001b[0m\u001b[0mupdate\u001b[0m\u001b[0;34m(\u001b[0m\u001b[0;36m0\u001b[0m\u001b[0;34m,\u001b[0m\u001b[0;34m\"PK\"\u001b[0m\u001b[0;34m)\u001b[0m\u001b[0;34m)\u001b[0m\u001b[0;34m\u001b[0m\u001b[0;34m\u001b[0m\u001b[0m\n\u001b[0m",
            "\u001b[0;31mAttributeError\u001b[0m: 'str' object has no attribute 'update'"
          ]
        }
      ]
    },
    {
      "cell_type": "code",
      "source": [
        "#nested loop\n",
        "\n",
        "Countries = [\"Libya\",\"Malta\",\"Italy\"]\n",
        "for i in Countries:\n",
        "    print(i)\n",
        "    for j in i:\n",
        "        print(j)"
      ],
      "metadata": {
        "colab": {
          "base_uri": "https://localhost:8080/"
        },
        "id": "luLQ-ADyxFMS",
        "outputId": "63b0f658-f632-4257-f46f-69a8a0b4a263"
      },
      "execution_count": 58,
      "outputs": [
        {
          "output_type": "stream",
          "name": "stdout",
          "text": [
            "Libya\n",
            "L\n",
            "i\n",
            "b\n",
            "y\n",
            "a\n",
            "Malta\n",
            "M\n",
            "a\n",
            "l\n",
            "t\n",
            "a\n",
            "Italy\n",
            "I\n",
            "t\n",
            "a\n",
            "l\n",
            "y\n"
          ]
        }
      ]
    },
    {
      "cell_type": "code",
      "source": [
        "rows = int(input(\"How many line: \"))\n",
        "\n",
        "for i in range(1, rows+1):\n",
        "    for j in range(i):\n",
        "        print(\" * \", end = \" \")\n",
        "    print()\n",
        "\n",
        "rows = int(input(\"How many line: \"))\n",
        "\n",
        "for i in range(1, rows+1):\n",
        "    for j in range(i):\n",
        "        print(j, end = \" \")\n",
        "    print()"
      ],
      "metadata": {
        "colab": {
          "base_uri": "https://localhost:8080/"
        },
        "id": "CZhIx6mCziUs",
        "outputId": "508b8e35-9412-45b4-8b21-bcc3028e320d"
      },
      "execution_count": 62,
      "outputs": [
        {
          "output_type": "stream",
          "name": "stdout",
          "text": [
            "How many line: 4\n",
            " *  \n",
            " *   *  \n",
            " *   *   *  \n",
            " *   *   *   *  \n",
            "How many line: 4\n",
            "0 \n",
            "0 1 \n",
            "0 1 2 \n",
            "0 1 2 3 \n"
          ]
        }
      ]
    }
  ]
}