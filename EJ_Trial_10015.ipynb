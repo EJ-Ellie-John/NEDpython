{
  "nbformat": 4,
  "nbformat_minor": 0,
  "metadata": {
    "colab": {
      "provenance": [],
      "authorship_tag": "ABX9TyOC589/qKcKilMt3BRF6zhx",
      "include_colab_link": true
    },
    "kernelspec": {
      "name": "python3",
      "display_name": "Python 3"
    },
    "language_info": {
      "name": "python"
    }
  },
  "cells": [
    {
      "cell_type": "markdown",
      "metadata": {
        "id": "view-in-github",
        "colab_type": "text"
      },
      "source": [
        "<a href=\"https://colab.research.google.com/github/EJ-Ellie-John/NEDpython/blob/main/EJ_Trial_10015.ipynb\" target=\"_parent\"><img src=\"https://colab.research.google.com/assets/colab-badge.svg\" alt=\"Open In Colab\"/></a>"
      ]
    },
    {
      "cell_type": "code",
      "execution_count": 1,
      "metadata": {
        "colab": {
          "base_uri": "https://localhost:8080/"
        },
        "id": "821D-YJ7MSxH",
        "outputId": "f037d522-da00-415d-ecaa-7d8f9e35026f"
      },
      "outputs": [
        {
          "output_type": "stream",
          "name": "stdout",
          "text": [
            "name : Qasim\n",
            "password : \n",
            "user name : \n",
            "education : MSDS\n",
            "login : False\n",
            "\tTotal Objects 1\n",
            "\tsubject : Artificial Intelligence\n",
            "\tlast object created : 2025-02-15 06:06:59.846190\n",
            "\n"
          ]
        }
      ],
      "source": [
        "import datetime\n",
        "class Student():\n",
        "\n",
        "  counter = 0 # class variable\n",
        "  subject = \"Artificial Intelligence\" # class variable\n",
        "  last_object_created = datetime.datetime.now() # class variable\n",
        "\n",
        "  def __init__(self, name, education): # constructor method / only object creating time\n",
        "    self.name = name # attribute\n",
        "    self.password = \"\"  # attribute\n",
        "    self.user_name = \"\"\n",
        "    self.education = education  # attribute\n",
        "    self.login = False  # attribute\n",
        "    Student.counter += 1\n",
        "    Student.last_object_created = datetime.datetime.now()\n",
        "\n",
        "\n",
        "\n",
        "  def signup(self, user, password): # method\n",
        "    self.user_name = user\n",
        "    self.password = password\n",
        "    print(\"user created\")\n",
        "\n",
        "  def student_login(self, user, password ): # method\n",
        "    if self.user_name == user and self.password==password:\n",
        "      self.login = True\n",
        "      print(\"login successful\")\n",
        "    else:\n",
        "      print(\"login failed\")\n",
        "\n",
        "  def info(self):\n",
        "    print(\"name :\",self.name) # call attribute\n",
        "    print(\"password :\", self.password)\n",
        "    print(\"user name :\", self.user_name)\n",
        "    print(\"education :\", self.education)\n",
        "    print(\"login :\", self.login)\n",
        "    print(\"\\tTotal Objects\", Student.counter)\n",
        "    print(\"\\tsubject :\", Student.subject)\n",
        "    print(\"\\tlast object created :\", Student.last_object_created)\n",
        "    print()\n",
        "\n",
        "\n",
        "\n",
        "obj1 = Student(\"Qasim\",\"MSDS\")# create object->call __init__ method -> set attributes\n",
        "obj1.info()"
      ]
    },
    {
      "cell_type": "code",
      "source": [
        "# prompt: create simple example of __class__\n",
        "\n",
        "import datetime\n",
        "\n",
        "class MyClass:\n",
        "    class_variable = \"This is a class variable\"\n",
        "\n",
        "    def __init__(self, instance_variable):\n",
        "        self.instance_variable = instance_variable\n",
        "\n",
        "    def print_variables(self):\n",
        "        print(f\"Class Variable: {MyClass.class_variable}\")\n",
        "        print(f\"Instance Variable: {self.instance_variable}\")\n",
        "\n",
        "# Create an instance of the class\n",
        "my_object = MyClass(\"This is an instance variable\")\n",
        "\n",
        "# Call the method to print the variables\n",
        "my_object.print_variables()\n"
      ],
      "metadata": {
        "colab": {
          "base_uri": "https://localhost:8080/"
        },
        "id": "ingYSccbOt1q",
        "outputId": "7ea843e3-485f-4637-b132-ece520125c67"
      },
      "execution_count": 2,
      "outputs": [
        {
          "output_type": "stream",
          "name": "stdout",
          "text": [
            "Class Variable: This is a class variable\n",
            "Instance Variable: This is an instance variable\n"
          ]
        }
      ]
    },
    {
      "cell_type": "code",
      "source": [
        "# prompt: create simple example of __delattr__\n",
        "\n",
        "import datetime\n",
        "class Student():\n",
        "\n",
        "  counter = 0 # class variable\n",
        "  subject = \"Artificial Intelligence\" # class variable\n",
        "  last_object_created = datetime.datetime.now() # class variable\n",
        "\n",
        "  def __init__(self, name, education): # constructor method / only object creating time\n",
        "    self.name = name # attribute\n",
        "    self.password = \"\"  # attribute\n",
        "    self.user_name = \"\"\n",
        "    self.education = education  # attribute\n",
        "    self.login = False  # attribute\n",
        "    Student.counter += 1\n",
        "    Student.last_object_created = datetime.datetime.now()\n",
        "\n",
        "\n",
        "\n",
        "  def signup(self, user, password): # method\n",
        "    self.user_name = user\n",
        "    self.password = password\n",
        "    print(\"user created\")\n",
        "\n",
        "  def student_login(self, user, password ): # method\n",
        "    if self.user_name == user and self.password==password:\n",
        "      self.login = True\n",
        "      print(\"login successful\")\n",
        "    else:\n",
        "      print(\"login failed\")\n",
        "\n",
        "  def info(self):\n",
        "    print(\"name :\",self.name) # call attribute\n",
        "    print(\"password :\", self.password)\n",
        "    print(\"user name :\", self.user_name)\n",
        "    print(\"education :\", self.education)\n",
        "    print(\"login :\", self.login)\n",
        "    print(\"\\tTotal Objects\", Student.counter)\n",
        "    print(\"\\tsubject :\", Student.subject)\n",
        "    print(\"\\tlast object created :\", Student.last_object_created)\n",
        "    print()\n",
        "\n",
        "\n",
        "\n",
        "obj1 = Student(\"Qasim\",\"MSDS\")# create object->call __init__ method -> set attributes\n",
        "obj1.info()\n",
        "\n",
        "\n",
        "class MyClass:\n",
        "    class_variable = \"This is a class variable\"\n",
        "\n",
        "    def __init__(self, instance_variable):\n",
        "        self.instance_variable = instance_variable\n",
        "\n",
        "    def print_variables(self):\n",
        "        print(f\"Class Variable: {MyClass.class_variable}\")\n",
        "        print(f\"Instance Variable: {self.instance_variable}\")\n",
        "\n",
        "    def __delattr__(self, name):\n",
        "        if name == \"instance_variable\":\n",
        "            print(\"Deleting instance_variable is not allowed.\")\n",
        "        else:\n",
        "            super().__delattr__(name)\n",
        "\n",
        "# Create an instance of the class\n",
        "my_object = MyClass(\"This is an instance variable\")\n",
        "\n",
        "# Call the method to print the variables\n",
        "my_object.print_variables()\n",
        "\n",
        "# Try to delete the instance variable\n",
        "try:\n",
        "    del my_object.instance_variable\n",
        "except AttributeError as e:\n",
        "    print(e)\n",
        "\n",
        "# Try to delete another attribute (e.g., a method)\n",
        "try:\n",
        "    del my_object.print_variables\n",
        "except AttributeError as e:\n",
        "e\n"
      ],
      "metadata": {
        "colab": {
          "base_uri": "https://localhost:8080/",
          "height": 106
        },
        "id": "8g3JnFj7PLGZ",
        "outputId": "8eb7b5ec-9d1d-4f3c-c308-8f7b8630794a"
      },
      "execution_count": 3,
      "outputs": [
        {
          "output_type": "error",
          "ename": "IndentationError",
          "evalue": "expected an indented block after 'except' statement on line 81 (<ipython-input-3-8c49c51f23f0>, line 82)",
          "traceback": [
            "\u001b[0;36m  File \u001b[0;32m\"<ipython-input-3-8c49c51f23f0>\"\u001b[0;36m, line \u001b[0;32m82\u001b[0m\n\u001b[0;31m    e\u001b[0m\n\u001b[0m    ^\u001b[0m\n\u001b[0;31mIndentationError\u001b[0m\u001b[0;31m:\u001b[0m expected an indented block after 'except' statement on line 81\n"
          ]
        }
      ]
    },
    {
      "cell_type": "code",
      "source": [
        "# prompt: # prompt: create simple example of __delattr__\n",
        "# import datetime\n",
        "# class Student():\n",
        "#   counter = 0 # class variable\n",
        "#   subject = \"Artificial Intelligence\" # class variable\n",
        "#   last_object_created = datetime.datetime.now() # class variable\n",
        "#   def __init__(self, name, education): # constructor method / only object creating time\n",
        "#     self.name = name # attribute\n",
        "#     self.password = \"\"  # attribute\n",
        "#     self.user_name = \"\"\n",
        "#     self.education = education  # attribute\n",
        "#     self.login = False  # attribute\n",
        "#     Student.counter += 1\n",
        "#     Student.last_object_created = datetime.datetime.now()\n",
        "#   def signup(self, user, password): # method\n",
        "#     self.user_name = user\n",
        "#     self.password = password\n",
        "#     print(\"user created\")\n",
        "#   def student_login(self, user, password ): # method\n",
        "#     if self.user_name == user and self.password==password:\n",
        "#       self.login = True\n",
        "#       print(\"login successful\")\n",
        "#     else:\n",
        "#       print(\"login failed\")\n",
        "#   def info(self):\n",
        "#     print(\"name :\",self.name) # call attribute\n",
        "#     print(\"password :\", self.password)\n",
        "#     print(\"user name :\", self.user_name)\n",
        "#     print(\"education :\", self.education)\n",
        "#     print(\"login :\", self.login)\n",
        "#     print(\"\\tTotal Objects\", Student.counter)\n",
        "#     print(\"\\tsubject :\", Student.subject)\n",
        "#     print(\"\\tlast object created :\", Student.last_object_created)\n",
        "#     print()\n",
        "# obj1 = Student(\"Qasim\",\"MSDS\")# create object->call __init__ method -> set attributes\n",
        "# obj1.info()\n",
        "# class MyClass:\n",
        "#     class_variable = \"This is a class variable\"\n",
        "#     def __init__(self, instance_variable):\n",
        "#         self.instance_variable = instance_variable\n",
        "#     def print_variables(self):\n",
        "#         print(f\"Class Variable: {MyClass.class_variable}\")\n",
        "#         print(f\"Instance Variable: {self.instance_variable}\")\n",
        "#     def __delattr__(self, name):\n",
        "#         if name == \"instance_variable\":\n",
        "#             print(\"Deleting instance_variable is not allowed.\")\n",
        "#         else:\n",
        "#             super().__delattr__(name)\n",
        "# # Create an instance of the class\n",
        "# my_object = MyClass(\"This is an instance variable\")\n",
        "# Describe\n",
        "\n",
        "# Try to delete the instance variable\n",
        "try:\n",
        "    del my_object.instance_variable\n",
        "except AttributeError as e:\n",
        "    print(e)\n",
        "\n",
        "# Try to delete another attribute (e.g., a method)\n",
        "try:\n",
        "    del my_object.print_variables\n",
        "except AttributeError as e:\n",
        "e\n"
      ],
      "metadata": {
        "id": "WDyYpQB6Prmi"
      },
      "execution_count": null,
      "outputs": []
    },
    {
      "cell_type": "code",
      "source": [
        "list(dir(str))"
      ],
      "metadata": {
        "colab": {
          "base_uri": "https://localhost:8080/"
        },
        "id": "jjwCT36RQRk0",
        "outputId": "7a6a0ea2-8f8e-4fe4-b4c9-b66430587e03"
      },
      "execution_count": 4,
      "outputs": [
        {
          "output_type": "execute_result",
          "data": {
            "text/plain": [
              "['__add__',\n",
              " '__class__',\n",
              " '__contains__',\n",
              " '__delattr__',\n",
              " '__dir__',\n",
              " '__doc__',\n",
              " '__eq__',\n",
              " '__format__',\n",
              " '__ge__',\n",
              " '__getattribute__',\n",
              " '__getitem__',\n",
              " '__getnewargs__',\n",
              " '__getstate__',\n",
              " '__gt__',\n",
              " '__hash__',\n",
              " '__init__',\n",
              " '__init_subclass__',\n",
              " '__iter__',\n",
              " '__le__',\n",
              " '__len__',\n",
              " '__lt__',\n",
              " '__mod__',\n",
              " '__mul__',\n",
              " '__ne__',\n",
              " '__new__',\n",
              " '__reduce__',\n",
              " '__reduce_ex__',\n",
              " '__repr__',\n",
              " '__rmod__',\n",
              " '__rmul__',\n",
              " '__setattr__',\n",
              " '__sizeof__',\n",
              " '__str__',\n",
              " '__subclasshook__',\n",
              " 'capitalize',\n",
              " 'casefold',\n",
              " 'center',\n",
              " 'count',\n",
              " 'encode',\n",
              " 'endswith',\n",
              " 'expandtabs',\n",
              " 'find',\n",
              " 'format',\n",
              " 'format_map',\n",
              " 'index',\n",
              " 'isalnum',\n",
              " 'isalpha',\n",
              " 'isascii',\n",
              " 'isdecimal',\n",
              " 'isdigit',\n",
              " 'isidentifier',\n",
              " 'islower',\n",
              " 'isnumeric',\n",
              " 'isprintable',\n",
              " 'isspace',\n",
              " 'istitle',\n",
              " 'isupper',\n",
              " 'join',\n",
              " 'ljust',\n",
              " 'lower',\n",
              " 'lstrip',\n",
              " 'maketrans',\n",
              " 'partition',\n",
              " 'removeprefix',\n",
              " 'removesuffix',\n",
              " 'replace',\n",
              " 'rfind',\n",
              " 'rindex',\n",
              " 'rjust',\n",
              " 'rpartition',\n",
              " 'rsplit',\n",
              " 'rstrip',\n",
              " 'split',\n",
              " 'splitlines',\n",
              " 'startswith',\n",
              " 'strip',\n",
              " 'swapcase',\n",
              " 'title',\n",
              " 'translate',\n",
              " 'upper',\n",
              " 'zfill']"
            ]
          },
          "metadata": {},
          "execution_count": 4
        }
      ]
    },
    {
      "cell_type": "code",
      "source": [
        "# prompt: oop pillars\n",
        "\n",
        "class MyClass:\n",
        "    class_variable = \"This is a class variable\"\n",
        "\n",
        "    def __init__(self, instance_variable):\n",
        "        self.instance_variable = instance_variable\n",
        "\n",
        "    def print_variables(self):\n",
        "        print(f\"Class Variable: {MyClass.class_variable}\")\n",
        "        print(f\"Instance Variable: {self.instance_variable}\")\n",
        "\n",
        "    def __delattr__(self, name):\n",
        "        if name == \"instance_variable\":\n",
        "            print(\"Deleting instance_variable is not allowed.\")\n",
        "        else:\n",
        "            super().__delattr__(name)\n",
        "\n",
        "# Create an instance of the class\n",
        "my_object = MyClass(\"This is an instance variable\")\n",
        "\n",
        "# Call the method to print the variables\n",
        "my_object.print_variables()\n",
        "\n",
        "# Try to delete the instance variable\n",
        "try:\n",
        "    del my_object.instance_variable\n",
        "except AttributeError as e:\n",
        "    print(e)\n",
        "\n",
        "# Try to delete another attribute (e.g., a method)\n",
        "try:\n",
        "    del my_object.print_variables\n",
        "except AttributeError as e:\n",
        "    print(e)"
      ],
      "metadata": {
        "colab": {
          "base_uri": "https://localhost:8080/"
        },
        "id": "cyg-fC-fQWpI",
        "outputId": "b22d37b8-6d1c-4c96-85c1-e86d0cc1bfa9"
      },
      "execution_count": 7,
      "outputs": [
        {
          "output_type": "stream",
          "name": "stdout",
          "text": [
            "Class Variable: This is a class variable\n",
            "Instance Variable: This is an instance variable\n",
            "Deleting instance_variable is not allowed.\n",
            "'MyClass' object has no attribute 'print_variables'\n"
          ]
        }
      ]
    },
    {
      "cell_type": "code",
      "source": [
        "class Parent():\n",
        "  def __init__(self, name, age):\n",
        "    self.name = \"Eli\"\n",
        "    self.age = 20\n",
        "    self.eye_color = \"purple\"\n",
        "    self.hair_color = \"black\"\n",
        "\n",
        "  def info(self):\n",
        "      print(\"name:\", self.name) # call attribute\n",
        "      print(\"age:\", self.age)\n",
        "\n",
        "  def speak(self, words):\n",
        "      print(f\"object is speaking {words}\")\n",
        "  def eat(self, food):\n",
        "      print(f\"object is eating {food}\" )\n",
        "  def show_info(self):\n",
        "      print(\"Eye color: \", self.eye_color)\n",
        "\n",
        "class Child(Parent):\n",
        "  pass\n",
        "\n",
        "p1 = Parent(\"EJ\", 40)\n",
        "#p1.speak(\"Hi\")\n",
        "p1.eat(\"Pizza\")\n",
        "p1.info()\n",
        "p1.show_info()\n",
        "\n",
        "c1 = Child(\"E\", 18)\n",
        "c1.speak(\"Hello\")\n",
        "c1.eat(\"Burger\")\n",
        "c1.info()\n",
        "c1.show_info()\n",
        "\n",
        ""
      ],
      "metadata": {
        "colab": {
          "base_uri": "https://localhost:8080/"
        },
        "id": "r5fr6yVfRM-p",
        "outputId": "084ef4ce-c326-4f68-c282-c22502247b3d"
      },
      "execution_count": 20,
      "outputs": [
        {
          "output_type": "stream",
          "name": "stdout",
          "text": [
            "object is eating Pizza\n",
            "name: Eli\n",
            "age: 20\n",
            "Eye color:  purple\n",
            "object is speaking Hello\n",
            "object is eating Burger\n",
            "name: Eli\n",
            "age: 20\n",
            "Eye color:  purple\n"
          ]
        }
      ]
    },
    {
      "cell_type": "code",
      "source": [
        "class Parent():\n",
        "  def __init__(self, name, age):\n",
        "    self.name = \"Eli\"\n",
        "    self.age = 20\n",
        "    self.eye_color = \"purple\"\n",
        "    self.hair_color = \"black\"\n",
        "\n",
        "  def info(self):\n",
        "      print(\"name:\", self.name) # call attribute\n",
        "      print(\"age:\", self.age)\n",
        "\n",
        "  def speak(self, words):\n",
        "      print(f\"object is speaking {words}\")\n",
        "  def eat(self, food):\n",
        "      print(f\"object is eating {food}\" )\n",
        "  def show_info(self):\n",
        "      print(\"Eye color: \", self.eye_color)\n",
        "\n",
        "class Child():\n",
        "  def __init__(self, name, age, skin_color):\n",
        "    self.name = \"Eli\"\n",
        "    self.age = 20\n",
        "    self.eye_color = \"purple\"\n",
        "    self.hair_color = \"black\"\n",
        "    self.skin_color = \"tan\"\n",
        "\n",
        "  def info(self):\n",
        "      print(\"name:\", self.name) # call attribute\n",
        "      print(\"age:\", self.age)\n",
        "\n",
        "p1 = Parent(\"EJ\", 40)\n",
        "#p1.speak(\"Hi\")\n",
        "p1.eat(\"Pizza\")\n",
        "p1.info()\n",
        "p1.show_info()\n",
        "\n",
        "c1 = Child(\"E\", 18,\"Pale\")\n",
        "#c1.speak(\"Hello\")\n",
        "#c1.eat(\"Burger\")\n",
        "c1.info()\n",
        "c1.show_info()"
      ],
      "metadata": {
        "colab": {
          "base_uri": "https://localhost:8080/",
          "height": 280
        },
        "id": "S9OXH9abUafG",
        "outputId": "ffb84727-50dd-4ee9-e111-7a8fda88832a"
      },
      "execution_count": 24,
      "outputs": [
        {
          "output_type": "stream",
          "name": "stdout",
          "text": [
            "object is eating Pizza\n",
            "name: Eli\n",
            "age: 20\n",
            "Eye color:  purple\n",
            "name: Eli\n",
            "age: 20\n"
          ]
        },
        {
          "output_type": "error",
          "ename": "AttributeError",
          "evalue": "'Child' object has no attribute 'show_info'",
          "traceback": [
            "\u001b[0;31m---------------------------------------------------------------------------\u001b[0m",
            "\u001b[0;31mAttributeError\u001b[0m                            Traceback (most recent call last)",
            "\u001b[0;32m<ipython-input-24-a78507d82d9e>\u001b[0m in \u001b[0;36m<cell line: 0>\u001b[0;34m()\u001b[0m\n\u001b[1;32m     39\u001b[0m \u001b[0;31m#c1.eat(\"Burger\")\u001b[0m\u001b[0;34m\u001b[0m\u001b[0;34m\u001b[0m\u001b[0m\n\u001b[1;32m     40\u001b[0m \u001b[0mc1\u001b[0m\u001b[0;34m.\u001b[0m\u001b[0minfo\u001b[0m\u001b[0;34m(\u001b[0m\u001b[0;34m)\u001b[0m\u001b[0;34m\u001b[0m\u001b[0;34m\u001b[0m\u001b[0m\n\u001b[0;32m---> 41\u001b[0;31m \u001b[0mc1\u001b[0m\u001b[0;34m.\u001b[0m\u001b[0mshow_info\u001b[0m\u001b[0;34m(\u001b[0m\u001b[0;34m)\u001b[0m\u001b[0;34m\u001b[0m\u001b[0;34m\u001b[0m\u001b[0m\n\u001b[0m",
            "\u001b[0;31mAttributeError\u001b[0m: 'Child' object has no attribute 'show_info'"
          ]
        }
      ]
    },
    {
      "cell_type": "code",
      "source": [
        "# prompt: generate simple code for multi inheritance on mother child and father\n",
        "\n",
        "class Mother:\n",
        "  def __init__(self, eye_color):\n",
        "    self.eye_color = eye_color\n",
        "\n",
        "  def info(self):\n",
        "    print(\"Mother's eye color:\", self.eye_color)\n",
        "\n",
        "class Father:\n",
        "  def __init__(self, hair_color):\n",
        "    self.hair_color = hair_color\n",
        "\n",
        "  def info(self):\n",
        "    print(\"Father's hair color:\", self.hair_color)\n",
        "\n",
        "class Child(Mother, Father):\n",
        "  def __init__(self, eye_color, hair_color, name):\n",
        "    Mother.__init__(self, eye_color)\n",
        "    Father.__init__(self, hair_color)\n",
        "    self.name = name\n",
        "\n",
        "  def info(self):\n",
        "    print(\"Child's name:\", self.name)\n",
        "    Mother.info(self)\n",
        "    Father.info(self)\n",
        "\n",
        "# Example usage\n",
        "child = Child(\"brown\", \"black\", \"Alice\")\n",
        "child.info()\n"
      ],
      "metadata": {
        "colab": {
          "base_uri": "https://localhost:8080/"
        },
        "id": "llhQM57gWwjt",
        "outputId": "4dd8655e-a59a-4b6a-9d57-a04e6f676aff"
      },
      "execution_count": 25,
      "outputs": [
        {
          "output_type": "stream",
          "name": "stdout",
          "text": [
            "Child's name: Alice\n",
            "Mother's eye color: brown\n",
            "Father's hair color: black\n"
          ]
        }
      ]
    },
    {
      "cell_type": "code",
      "source": [
        "# prompt: generate simple code for multi inheritance on mother child and father\n",
        "\n",
        "class Mother:\n",
        "  def __init__(self, eye_color):\n",
        "    self.eye_color = eye_color\n",
        "\n",
        "  def info(self):\n",
        "    print(\"Mother's eye color:\", self.eye_color)\n",
        "\n",
        "class Father:\n",
        "  def __init__(self, hair_color):\n",
        "    self.hair_color = hair_color\n",
        "\n",
        "  def info(self):\n",
        "    print(\"Father's hair color:\", self.hair_color)\n",
        "\n",
        "class Child(Father, Mother):\n",
        "  def __init__(self, eye_color, hair_color, name):\n",
        "    Mother.__init__(self, eye_color)\n",
        "    Father.__init__(self, hair_color)\n",
        "    self.name = name\n",
        "\n",
        "  def info(self):\n",
        "    print(\"Child's name:\", self.name)\n",
        "    Mother.info(self)\n",
        "    Father.info(self)\n",
        "\n",
        "# Example usage\n",
        "child = Child(\"brown\", \"black\", \"Alice\")\n",
        "child.info()"
      ],
      "metadata": {
        "colab": {
          "base_uri": "https://localhost:8080/"
        },
        "id": "QTFtBqa1W8l-",
        "outputId": "30ef794b-a340-4d50-92cb-8acabed94a05"
      },
      "execution_count": 26,
      "outputs": [
        {
          "output_type": "stream",
          "name": "stdout",
          "text": [
            "Child's name: Alice\n",
            "Mother's eye color: brown\n",
            "Father's hair color: black\n"
          ]
        }
      ]
    },
    {
      "cell_type": "code",
      "source": [
        "# prompt: create advance inheritance example\n",
        "\n",
        "class Animal:\n",
        "    def __init__(self, name, species):\n",
        "        self.name = name\n",
        "        self.species = species\n",
        "\n",
        "    def speak(self):\n",
        "        print(\"Generic animal sound\")\n",
        "\n",
        "class Mammal(Animal):\n",
        "    def __init__(self, name, species, fur_color):\n",
        "        super().__init__(name, species)\n",
        "        self.fur_color = fur_color\n",
        "\n",
        "    def speak(self):\n",
        "        print(\"Mammal sound\")\n",
        "\n",
        "class Dog(Mammal):\n",
        "    def __init__(self, name, breed, fur_color):\n",
        "        super().__init__(name, \"Dog\", fur_color)\n",
        "        self.breed = breed\n",
        "\n",
        "    def speak(self):\n",
        "        print(\"Woof!\")\n",
        "\n",
        "class Cat(Mammal):\n",
        "    def __init__(self, name, fur_color):\n",
        "        super().__init__(name, \"Cat\", fur_color)\n",
        "\n",
        "    def speak(self):\n",
        "        print(\"Meow!\")\n",
        "\n",
        "# Example usage\n",
        "animal = Animal(\"Generic\", \"Unknown\")\n",
        "animal.speak()  # Output: Generic animal sound\n",
        "\n",
        "mammal = Mammal(\"Mammal\", \"Mammal species\", \"Brown\")\n",
        "mammal.speak()  # Output: Mammal sound\n",
        "\n",
        "dog = Dog(\"Buddy\", \"Golden Retriever\", \"Golden\")\n",
        "dog.speak()  # Output: Woof!\n",
        "print(dog.species) # Output: Dog\n",
        "\n",
        "cat = Cat(\"Whiskers\", \"White\")\n",
        "cat.speak()  # Output: Meow!\n",
        "print(cat.fur_color) # Output: White\n",
        "\n",
        "#overloading\n",
        "#overwrite\n",
        "\n"
      ],
      "metadata": {
        "colab": {
          "base_uri": "https://localhost:8080/"
        },
        "id": "zLKKVMccXOmB",
        "outputId": "eb2e2280-b831-46e6-b4ed-9760ca33f908"
      },
      "execution_count": 27,
      "outputs": [
        {
          "output_type": "stream",
          "name": "stdout",
          "text": [
            "Generic animal sound\n",
            "Mammal sound\n",
            "Woof!\n",
            "Dog\n",
            "Meow!\n",
            "White\n"
          ]
        }
      ]
    },
    {
      "cell_type": "code",
      "source": [
        "print(\"1\"+\"1\")\n",
        "print(1+1)\n",
        "print(sum([1,1]))\n",
        "print(sum([1.0,1]))\n",
        "print(\"*\" * 10)"
      ],
      "metadata": {
        "colab": {
          "base_uri": "https://localhost:8080/"
        },
        "id": "tKzzBT7_Ya2U",
        "outputId": "7728b1d8-5599-4d3a-a8d1-ac226544577f"
      },
      "execution_count": 33,
      "outputs": [
        {
          "output_type": "stream",
          "name": "stdout",
          "text": [
            "11\n",
            "2\n",
            "2\n",
            "2.0\n",
            "**********\n"
          ]
        }
      ]
    },
    {
      "cell_type": "code",
      "source": [
        "# prompt: create simple example of overloading with addition function\n",
        "\n",
        "class Number:\n",
        "    def __init__(self, value):\n",
        "        self.value = value\n",
        "\n",
        "    def __add__(self, other):\n",
        "        if isinstance(other, Number):\n",
        "            return self.value + other.value\n",
        "        elif isinstance(other, int) or isinstance(other, float):\n",
        "            return self.value + other\n",
        "        else:\n",
        "            return \"Unsupported operand type(s) for +: 'Number' and '\" + type(other).__name__ + \"'\"\n",
        "\n",
        "# Example usage\n",
        "num1 = Number(5)\n",
        "num2 = Number(10)\n",
        "print(num1 + num2)  # Output: 15 (Number + Number)\n",
        "\n",
        "\n",
        "num3 = Number(3)\n",
        "num4 = 7 #int\n",
        "print(num3 + num4)  # Output: 10 (Number + int)\n",
        "\n",
        "num5 = Number(3.5)\n",
        "num6 = 2.1 # float\n",
        "print(num5 + num6) # Output: 5.6 (Number + float)\n",
        "\n",
        "\n",
        "num7 = Number(12)\n",
        "num8 = \"hello\" # string\n",
        "print(num7 + num8)  # Output: Unsupported operand type(s) for +: 'Number' and 'str'\n"
      ],
      "metadata": {
        "colab": {
          "base_uri": "https://localhost:8080/"
        },
        "id": "wjatNCYiYfRq",
        "outputId": "9991ff41-9727-4a5a-ca09-ac8dd38f6c6b"
      },
      "execution_count": 34,
      "outputs": [
        {
          "output_type": "stream",
          "name": "stdout",
          "text": [
            "15\n",
            "10\n",
            "5.6\n",
            "Unsupported operand type(s) for +: 'Number' and 'str'\n"
          ]
        }
      ]
    },
    {
      "cell_type": "code",
      "source": [
        "# prompt: create simple example of over ridding\n",
        "\n",
        "class Parent():\n",
        "  def __init__(self, name, age):\n",
        "    self.name = \"Eli\"\n",
        "    self.age = 20\n",
        "    self.eye_color = \"purple\"\n",
        "    self.hair_color = \"black\"\n",
        "\n",
        "  def info(self):\n",
        "      print(\"Parent's name:\", self.name) # call attribute\n",
        "      print(\"Parent's age:\", self.age)\n",
        "\n",
        "  def speak(self, words):\n",
        "      print(f\"Parent is speaking {words}\")\n",
        "  def eat(self, food):\n",
        "      print(f\"Parent is eating {food}\" )\n",
        "  def show_info(self):\n",
        "      print(\"Parent's Eye color: \", self.eye_color)\n",
        "\n",
        "class Child(Parent):\n",
        "  def __init__(self, name, age, skin_color):\n",
        "    super().__init__(name,age) # Call parent class constructor\n",
        "    self.skin_color = skin_color\n",
        "\n",
        "  def info(self):\n",
        "      print(\"Child's name:\", self.name) # call attribute\n",
        "      print(\"Child's age:\", self.age)\n",
        "      print(\"Child's Skin Color:\", self.skin_color)\n",
        "\n",
        "\n",
        "p1 = Parent(\"EJ\", 40)\n",
        "p1.eat(\"Pizza\")\n",
        "p1.info()\n",
        "p1.show_info()\n",
        "\n",
        "c1 = Child(\"E\", 18,\"Pale\")\n",
        "c1.speak(\"Hello\") # Child inherits speak method from Parent\n",
        "c1.eat(\"Burger\") # Child inherits eat method from Parent\n",
        "c1.info() # Child overrides info method\n",
        "c1.show_info() # Child inherits show_info method\n"
      ],
      "metadata": {
        "id": "NQdUFjDTanWX"
      },
      "execution_count": null,
      "outputs": []
    },
    {
      "cell_type": "code",
      "source": [
        "# prompt: create advance polymorphism example on shapes\n",
        "# Overriding\n",
        "\n",
        "class Shape:\n",
        "    def __init__(self, name):\n",
        "        self.name = name\n",
        "\n",
        "    def area(self):\n",
        "        pass  # Placeholder for area calculation\n",
        "\n",
        "    def perimeter(self):\n",
        "        pass  # Placeholder for perimeter calculation\n",
        "\n",
        "    def info(self):\n",
        "        print(f\"Shape: {self.name}\")\n",
        "\n",
        "\n",
        "class Circle(Shape):\n",
        "    def __init__(self, name, radius):\n",
        "        super().__init__(name)\n",
        "        self.radius = radius\n",
        "\n",
        "    def area(self):\n",
        "        return 3.14159 * self.radius * self.radius\n",
        "\n",
        "    def perimeter(self):\n",
        "        return 2 * 3.14159 * self.radius\n",
        "\n",
        "    def info(self):\n",
        "        super().info()\n",
        "        print(f\"Radius: {self.radius}\")\n",
        "        print(f\"Area: {self.area()}\")\n",
        "        print(f\"Perimeter: {self.perimeter()}\")\n",
        "\n",
        "\n",
        "class Rectangle(Shape):\n",
        "    def __init__(self, name, width, height):\n",
        "        super().__init__(name)\n",
        "        self.width = width\n",
        "        self.height = height\n",
        "\n",
        "    def area(self):\n",
        "        return self.width * self.height\n",
        "\n",
        "    def perimeter(self):\n",
        "        return 2 * (self.width + self.height)\n",
        "\n",
        "    def info(self):\n",
        "        super().info()\n",
        "        print(f\"Width: {self.width}\")\n",
        "        print(f\"Height: {self.height}\")\n",
        "        print(f\"Area: {self.area()}\")\n",
        "        print(f\"Perimeter: {self.perimeter()}\")\n",
        "\n",
        "\n",
        "# Example usage\n",
        "shapes = [\n",
        "    Circle(\"Circle 1\", 5),\n",
        "    Rectangle(\"Rectangle 1\", 4, 6),\n",
        "    Circle(\"Circle 2\", 3)\n",
        "]\n",
        "\n",
        "for shape in shapes:\n",
        "    shape.info()\n",
        "    print(\"-\" * 20)\n"
      ],
      "metadata": {
        "colab": {
          "base_uri": "https://localhost:8080/"
        },
        "id": "wuox8_PpcuEw",
        "outputId": "ebee46e4-8e06-4b68-fd5d-5ce0486176c5"
      },
      "execution_count": 35,
      "outputs": [
        {
          "output_type": "stream",
          "name": "stdout",
          "text": [
            "Shape: Circle 1\n",
            "Radius: 5\n",
            "Area: 78.53975\n",
            "Perimeter: 31.4159\n",
            "--------------------\n",
            "Shape: Rectangle 1\n",
            "Width: 4\n",
            "Height: 6\n",
            "Area: 24\n",
            "Perimeter: 20\n",
            "--------------------\n",
            "Shape: Circle 2\n",
            "Radius: 3\n",
            "Area: 28.274309999999996\n",
            "Perimeter: 18.849539999999998\n",
            "--------------------\n"
          ]
        }
      ]
    },
    {
      "cell_type": "code",
      "source": [
        "# prompt: Generate very simple example of encapsulation\n",
        "\n",
        "class MyClass:\n",
        "    def __init__(self, value):\n",
        "        self._value = value  # Note the single underscore\n",
        "\n",
        "    def get_value(self):\n",
        "        return self._value\n",
        "\n",
        "    def set_value(self, new_value):\n",
        "        if isinstance(new_value, int) and new_value > 0:\n",
        "            self._value = new_value\n",
        "        else:\n",
        "            print(\"Invalid value. Value must be a positive integer.\")\n",
        "\n",
        "# Create an instance\n",
        "my_object = MyClass(10)\n",
        "\n",
        "# Access the value using the getter method\n",
        "print(my_object.get_value())  # Output: 10\n",
        "\n",
        "# Modify the value using the setter method\n",
        "my_object.set_value(20)\n",
        "print(my_object.get_value())  # Output: 20\n",
        "\n",
        "my_object.set_value(-5)  # Output: Invalid value. Value must be a positive integer.\n",
        "print(my_object.get_value())  # Output: 20 (value remains unchanged)\n",
        "\n",
        "my_object.set_value(25.5) # Output: Invalid value. Value must be a positive integer.\n",
        "print(my_object.get_value()) # Output: 20\n"
      ],
      "metadata": {
        "id": "rKCHRExWdp3K"
      },
      "execution_count": null,
      "outputs": []
    },
    {
      "cell_type": "code",
      "source": [
        "# Polymorphism\n",
        "\n",
        "class Animal:\n",
        "    def speak(self):\n",
        "        print(\"Generic animal sound\")\n",
        "\n",
        "class Dog(Animal):\n",
        "    def speak(self):\n",
        "        print(\"Woof!\")\n",
        "\n",
        "class Cat(Animal):\n",
        "    def speak(self):\n",
        "        print(\"Meow!\")\n",
        "\n",
        "\n",
        "class Duck(Animal):\n",
        "    def speak(self):\n",
        "        print(\"Quack!\")"
      ],
      "metadata": {
        "id": "Ypu0Y0t_X1hT"
      },
      "execution_count": 29,
      "outputs": []
    },
    {
      "cell_type": "code",
      "source": [
        "# prompt: create simple example of abstraction\n",
        "\n",
        "class Animal:\n",
        "    def __init__(self, name):\n",
        "        self.name = name\n",
        "\n",
        "    def speak(self):\n",
        "        print(\"Generic animal sound\")\n",
        "\n",
        "class Dog(Animal):\n",
        "    def speak(self):\n",
        "        print(\"Woof!\")\n",
        "\n",
        "class Cat(Animal):\n",
        "    def speak(self):\n",
        "        print(\"Meow!\")\n",
        "\n",
        "# Create instances of the classes\n",
        "animals = [Dog(\"Buddy\"), Cat(\"Whiskers\")]\n",
        "\n",
        "# Call the speak method on each animal\n",
        "for animal in animals:\n",
        "    animal.speak()\n"
      ],
      "metadata": {
        "colab": {
          "base_uri": "https://localhost:8080/"
        },
        "id": "UeYfRF13h2kB",
        "outputId": "a669aa17-ddef-467d-a8b7-3f1166513939"
      },
      "execution_count": 36,
      "outputs": [
        {
          "output_type": "stream",
          "name": "stdout",
          "text": [
            "Woof!\n",
            "Meow!\n"
          ]
        }
      ]
    },
    {
      "cell_type": "code",
      "source": [
        "# prompt: create simple example of abstraction with import\n",
        "\n",
        "# Assuming you have a module named 'my_module' in the same directory\n",
        "# or in a location accessible to Python.\n",
        "import my_module\n",
        "\n",
        "# Example usage of functions from the module\n",
        "result1 = my_module.my_function1(5)\n",
        "result2 = my_module.my_function2(10, 2)\n",
        "\n",
        "print(result1, result2)\n"
      ],
      "metadata": {
        "id": "cinaAef9itol"
      },
      "execution_count": null,
      "outputs": []
    }
  ]
}